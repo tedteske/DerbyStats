{
  "nbformat": 4,
  "nbformat_minor": 0,
  "metadata": {
    "kernelspec": {
      "display_name": "Python 3.6",
      "language": "python",
      "name": "python3.6"
    },
    "language_info": {
      "codemirror_mode": {
        "name": "ipython",
        "version": 3
      },
      "file_extension": ".py",
      "mimetype": "text/x-python",
      "name": "python",
      "nbconvert_exporter": "python",
      "pygments_lexer": "ipython3",
      "version": "3.6.0"
    },
    "colab": {
      "name": "Pack 27 Derbystats 2020.ipynb",
      "provenance": [],
      "collapsed_sections": [],
      "include_colab_link": true
    }
  },
  "cells": [
    {
      "cell_type": "markdown",
      "metadata": {
        "id": "view-in-github",
        "colab_type": "text"
      },
      "source": [
        "<a href=\"https://colab.research.google.com/github/tedteske/DerbyStats/blob/master/Pack_27_Derbystats_2020.ipynb\" target=\"_parent\"><img src=\"https://colab.research.google.com/assets/colab-badge.svg\" alt=\"Open In Colab\"/></a>"
      ]
    },
    {
      "cell_type": "markdown",
      "metadata": {
        "id": "v3Xh7O3Ancmk",
        "colab_type": "text"
      },
      "source": [
        "### Pack 27 Pinewood Derby 2020 Results"
      ]
    },
    {
      "cell_type": "markdown",
      "metadata": {
        "id": "n4kl6eyTncmo",
        "colab_type": "text"
      },
      "source": [
        "First, import the libraries we'll need and load the CSV results files into a Pandas dataframe."
      ]
    },
    {
      "cell_type": "code",
      "metadata": {
        "id": "Sn2vxAn8oK-s",
        "colab_type": "code",
        "outputId": "02333616-9b53-46f2-db24-dcb05fa27160",
        "colab": {
          "base_uri": "https://localhost:8080/",
          "height": 33
        }
      },
      "source": [
        "#see https://towardsdatascience.com/3-ways-to-load-csv-files-into-colab-7c14fcbdcb92\n",
        "from google.colab import drive\n",
        "drive.mount('/content/gdrive')"
      ],
      "execution_count": 0,
      "outputs": [
        {
          "output_type": "stream",
          "text": [
            "Drive already mounted at /content/gdrive; to attempt to forcibly remount, call drive.mount(\"/content/gdrive\", force_remount=True).\n"
          ],
          "name": "stdout"
        }
      ]
    },
    {
      "cell_type": "code",
      "metadata": {
        "id": "GD0KLaJ_ncmq",
        "colab_type": "code",
        "colab": {}
      },
      "source": [
        "import glob\n",
        "import os\n",
        "import pandas as pd\n",
        "import statsmodels.formula.api as sm\n",
        "import matplotlib.pyplot as plt\n",
        "from scipy import stats\n",
        "import seaborn as sns \n",
        "sns.set(rc={'figure.figsize':(8,5)})\n",
        "plt.rcParams[\"font.family\"] = \"serif\"\n",
        "\n",
        "import warnings \n",
        "warnings.simplefilter('ignore')\n",
        "\n",
        "def top_times(df, filter_dict=None, means=True, top=10):\n",
        "    \n",
        "    if filter_dict:\n",
        "        df = df[df.isin(filter_dict).sum(1) == len(filter_dict.keys())]\n",
        "        # adapted from https://stackoverflow.com/questions/38137821\n",
        "    \n",
        "    df = df[['Car', 'Last Name', 'First Name', 'Lane', 'Time']]\n",
        "    \n",
        "    if means:\n",
        "        aggs = {'Time':['mean','std']}\n",
        "        df = df.groupby(['Car','Last Name','First Name']).agg(aggs)\n",
        "        df.columns = ['Time', 'Stdev']\n",
        "        \n",
        "    mu = df['Time'].mean()\n",
        "    stdev = df['Time'].std()\n",
        "    df['Z-score'] = (df['Time'] - mu)/stdev\n",
        "    \n",
        "    df = df.sort_values('Time')\n",
        "    df = df.head(top)\n",
        "    df = df.reset_index()\n",
        "    df.index += 1 \n",
        "\n",
        "    return df\n",
        "\n",
        "def compare_hist(df, comps_dict, filter_dict=None, \n",
        "                 title=None, hist=True, norm_hist=True, kde=True, fit=None):\n",
        "\n",
        "    if filter_dict:\n",
        "        df = df[df.isin(filter_dict).sum(1) == len(filter_dict.keys())]\n",
        "    \n",
        "    plots = len(comps_dict)\n",
        "    fig, axes = plt.subplots(plots, 1, \n",
        "                             figsize=(10, plots * 10/1.6), \n",
        "                             sharex=True)\n",
        "    if plots > 1:\n",
        "        axes = axes.flat\n",
        "    else:\n",
        "        axes = [axes]\n",
        "    for ax, column in zip(axes, comps_dict):\n",
        "        for value in comps_dict[column]:\n",
        "            try:\n",
        "                fseries = df[df[column].isin([value])]['Time']\n",
        "            except:\n",
        "                column = column[:-1]\n",
        "                fseries = df[df[column].isin([value])]['Time']\n",
        "            sns.distplot(fseries,\n",
        "                         label=value,\n",
        "                         hist=hist,\n",
        "                         norm_hist=norm_hist,\n",
        "                         kde=kde, kde_kws={'shade':True},\n",
        "                         fit=fit,\n",
        "                         bins=None,\n",
        "                         ax=ax, axlabel=False)\n",
        "            if kde: \n",
        "                c = ax.get_lines()[-1].get_c() \n",
        "                ax.axvline(fseries.mean(), color=c, linestyle='--')\n",
        "                legend_title = \"------  averages\" \n",
        "            else: \n",
        "                legend_title = None\n",
        "            if norm_hist:\n",
        "                ax.set(ylabel='relative frequency')\n",
        "            else: \n",
        "                ax.set(ylabel='frequency')\n",
        "            leg = ax.legend(title=legend_title, title_fontsize='medium')\n",
        "            leg._legend_box.align = \"left\"\n",
        "\n",
        "    axes[-1].set(xlabel='time (sec)')\n",
        "    if title: \n",
        "        fig.suptitle(title)\n",
        "        fig.subplots_adjust(top=0.93)\n",
        "    plt.subplots_adjust(hspace=0.07)\n",
        "    plt.show()"
      ],
      "execution_count": 0,
      "outputs": []
    },
    {
      "cell_type": "code",
      "metadata": {
        "id": "CHNYf4v8ncmz",
        "colab_type": "code",
        "colab": {}
      },
      "source": [
        "data_dir = \"/content/gdrive/My Drive/Colab Notebooks/scouts/pack 27 2020\"\n",
        "year_dirs = [\"2018\",\"2019\",\"2020\"]\n",
        "col_dict = {\"Heat#\":\"Heat\",\n",
        "            \"Car#\":\"Car\", \n",
        "            \"Avg MPH\":\"MPH\" }\n",
        "\n",
        "temp_list = []\n",
        "\n",
        "for year_dir in year_dirs:\n",
        "\n",
        "    results_files = glob.glob(data_dir + \"/\" + year_dir + \"/\" + \"*.csv\")\n",
        "\n",
        "    for results_file in results_files:\n",
        "        df = pd.read_csv(results_file, index_col=None, header=0)\n",
        "        results_file = os.path.basename(results_file) \n",
        "        df['Round'] = results_file.replace('.csv', '')\n",
        "        df['Year'] = year_dir\n",
        "        df.rename(columns=col_dict, inplace=True)\n",
        "        temp_list.append(df)\n",
        "\n",
        "all_results_df = pd.concat(temp_list, axis = 0, ignore_index = True)\n",
        "all_results_df = all_results_df.drop(all_results_df[all_results_df[\"Time\"].isnull()].index, axis=0)\n",
        "\n",
        "#to scan for misspelled names\n",
        "#names = ['Last Name','First Name']\n",
        "#all_results_df[names].groupby(names).agg('sum').iloc[50:]\n",
        "\n",
        "Names_Fixes = [['Adams', 'Johnathan', 'Adams', 'Jonathan'],\n",
        "               ['Arreage','Angel', 'Arreaga','Angel'],\n",
        "               ['Arreage', 'Axel', 'Arreaga', 'Axel'],\n",
        "               ['Arreaga', 'Axle', 'Arreaga', 'Axel'],\n",
        "               ['Callaway', 'Nard', 'Nard', 'Callaway'],\n",
        "               ['Douthitt', 'Briana Lynn', 'Douthitt', 'Brianna Lynn'],\n",
        "               ['Fanken', 'Sully', 'Franken','Sully'],\n",
        "               ['McCAbe', 'Madison', 'McCabe', 'Madison'],\n",
        "               ['Marriot', 'Zayla' ,'Merriott','Zayla' ],\n",
        "               ['Rickets',\t'Sean', 'Ricketts','Sean' ],\n",
        "               ['Teske', 'Victor','Teske', 'Viktor'],\n",
        "               ['Thompson Brylee', 'Brylee', 'Thompson', 'Brylee'],\n",
        "               ['Oliver', 'Pool', 'Pool','Oliver']]\n",
        "\n",
        "for i in Names_Fixes:\n",
        "    all_results_df.loc[(all_results_df['Last Name'] == i[0]) & \n",
        "                        (all_results_df['First Name'] == i[1]),\n",
        "                    ['Last Name', 'First Name']]=[i[2], i[3]]"
      ],
      "execution_count": 0,
      "outputs": []
    },
    {
      "cell_type": "markdown",
      "metadata": {
        "id": "zob9ZGe9ncm6",
        "colab_type": "text"
      },
      "source": [
        "Check the first 5 rows to make sure the data loaded OK."
      ]
    },
    {
      "cell_type": "code",
      "metadata": {
        "id": "RzmsM9m9ncm9",
        "colab_type": "code",
        "outputId": "89eaac69-8ed5-43c4-f7ec-2512826c3bf8",
        "colab": {
          "base_uri": "https://localhost:8080/",
          "height": 191
        }
      },
      "source": [
        "all_results_df.head()"
      ],
      "execution_count": 0,
      "outputs": [
        {
          "output_type": "execute_result",
          "data": {
            "text/html": [
              "<div>\n",
              "<style scoped>\n",
              "    .dataframe tbody tr th:only-of-type {\n",
              "        vertical-align: middle;\n",
              "    }\n",
              "\n",
              "    .dataframe tbody tr th {\n",
              "        vertical-align: top;\n",
              "    }\n",
              "\n",
              "    .dataframe thead th {\n",
              "        text-align: right;\n",
              "    }\n",
              "</style>\n",
              "<table border=\"1\" class=\"dataframe\">\n",
              "  <thead>\n",
              "    <tr style=\"text-align: right;\">\n",
              "      <th></th>\n",
              "      <th>Heat</th>\n",
              "      <th>Lane</th>\n",
              "      <th>Last Name</th>\n",
              "      <th>First Name</th>\n",
              "      <th>Car</th>\n",
              "      <th>Time</th>\n",
              "      <th>Place</th>\n",
              "      <th>MPH</th>\n",
              "      <th>Round</th>\n",
              "      <th>Year</th>\n",
              "    </tr>\n",
              "  </thead>\n",
              "  <tbody>\n",
              "    <tr>\n",
              "      <th>0</th>\n",
              "      <td>1</td>\n",
              "      <td>1</td>\n",
              "      <td>Ramirez</td>\n",
              "      <td>Landen</td>\n",
              "      <td>4</td>\n",
              "      <td>3.3239</td>\n",
              "      <td>4.0</td>\n",
              "      <td>148.72</td>\n",
              "      <td>Finals</td>\n",
              "      <td>2018</td>\n",
              "    </tr>\n",
              "    <tr>\n",
              "      <th>1</th>\n",
              "      <td>1</td>\n",
              "      <td>2</td>\n",
              "      <td>Thompson</td>\n",
              "      <td>Brock</td>\n",
              "      <td>10</td>\n",
              "      <td>3.3816</td>\n",
              "      <td>6.0</td>\n",
              "      <td>146.18</td>\n",
              "      <td>Finals</td>\n",
              "      <td>2018</td>\n",
              "    </tr>\n",
              "    <tr>\n",
              "      <th>2</th>\n",
              "      <td>1</td>\n",
              "      <td>3</td>\n",
              "      <td>Holland</td>\n",
              "      <td>Dristan</td>\n",
              "      <td>19</td>\n",
              "      <td>3.3016</td>\n",
              "      <td>3.0</td>\n",
              "      <td>149.72</td>\n",
              "      <td>Finals</td>\n",
              "      <td>2018</td>\n",
              "    </tr>\n",
              "    <tr>\n",
              "      <th>3</th>\n",
              "      <td>1</td>\n",
              "      <td>4</td>\n",
              "      <td>Cundiff</td>\n",
              "      <td>Cade</td>\n",
              "      <td>30</td>\n",
              "      <td>3.2704</td>\n",
              "      <td>2.0</td>\n",
              "      <td>151.15</td>\n",
              "      <td>Finals</td>\n",
              "      <td>2018</td>\n",
              "    </tr>\n",
              "    <tr>\n",
              "      <th>4</th>\n",
              "      <td>1</td>\n",
              "      <td>5</td>\n",
              "      <td>Evers</td>\n",
              "      <td>Justin</td>\n",
              "      <td>40</td>\n",
              "      <td>3.3242</td>\n",
              "      <td>5.0</td>\n",
              "      <td>148.70</td>\n",
              "      <td>Finals</td>\n",
              "      <td>2018</td>\n",
              "    </tr>\n",
              "  </tbody>\n",
              "</table>\n",
              "</div>"
            ],
            "text/plain": [
              "   Heat  Lane Last Name First Name Car    Time  Place     MPH   Round  Year\n",
              "0     1     1   Ramirez     Landen   4  3.3239    4.0  148.72  Finals  2018\n",
              "1     1     2  Thompson      Brock  10  3.3816    6.0  146.18  Finals  2018\n",
              "2     1     3   Holland    Dristan  19  3.3016    3.0  149.72  Finals  2018\n",
              "3     1     4   Cundiff       Cade  30  3.2704    2.0  151.15  Finals  2018\n",
              "4     1     5     Evers     Justin  40  3.3242    5.0  148.70  Finals  2018"
            ]
          },
          "metadata": {
            "tags": []
          },
          "execution_count": 261
        }
      ]
    },
    {
      "cell_type": "markdown",
      "metadata": {
        "id": "H34Ne0IshEeG",
        "colab_type": "text"
      },
      "source": [
        "### Preliminary Rounds"
      ]
    },
    {
      "cell_type": "markdown",
      "metadata": {
        "id": "aLEY4Rfr1t6M",
        "colab_type": "text"
      },
      "source": [
        "Let's compare the preliminary rounds with last year. First, run the usual stats."
      ]
    },
    {
      "cell_type": "code",
      "metadata": {
        "id": "dhOE7e5Equib",
        "colab_type": "code",
        "outputId": "258e75e8-9099-421a-b080-cf35a0879f9e",
        "colab": {
          "base_uri": "https://localhost:8080/",
          "height": 277
        }
      },
      "source": [
        "prelims = ['Lion', 'Tiger', 'Wolf', 'Bear', 'Webelo', 'AOL']\n",
        "prelims_df = all_results_df[all_results_df.Round.isin(prelims)]\n",
        "prelims_df.groupby(['Year'])['Time'].describe().round(3).T"
      ],
      "execution_count": 0,
      "outputs": [
        {
          "output_type": "execute_result",
          "data": {
            "text/html": [
              "<div>\n",
              "<style scoped>\n",
              "    .dataframe tbody tr th:only-of-type {\n",
              "        vertical-align: middle;\n",
              "    }\n",
              "\n",
              "    .dataframe tbody tr th {\n",
              "        vertical-align: top;\n",
              "    }\n",
              "\n",
              "    .dataframe thead th {\n",
              "        text-align: right;\n",
              "    }\n",
              "</style>\n",
              "<table border=\"1\" class=\"dataframe\">\n",
              "  <thead>\n",
              "    <tr style=\"text-align: right;\">\n",
              "      <th>Year</th>\n",
              "      <th>2019</th>\n",
              "      <th>2020</th>\n",
              "    </tr>\n",
              "  </thead>\n",
              "  <tbody>\n",
              "    <tr>\n",
              "      <th>count</th>\n",
              "      <td>324.000</td>\n",
              "      <td>288.000</td>\n",
              "    </tr>\n",
              "    <tr>\n",
              "      <th>mean</th>\n",
              "      <td>3.436</td>\n",
              "      <td>3.364</td>\n",
              "    </tr>\n",
              "    <tr>\n",
              "      <th>std</th>\n",
              "      <td>0.260</td>\n",
              "      <td>0.174</td>\n",
              "    </tr>\n",
              "    <tr>\n",
              "      <th>min</th>\n",
              "      <td>3.156</td>\n",
              "      <td>3.126</td>\n",
              "    </tr>\n",
              "    <tr>\n",
              "      <th>25%</th>\n",
              "      <td>3.269</td>\n",
              "      <td>3.233</td>\n",
              "    </tr>\n",
              "    <tr>\n",
              "      <th>50%</th>\n",
              "      <td>3.371</td>\n",
              "      <td>3.339</td>\n",
              "    </tr>\n",
              "    <tr>\n",
              "      <th>75%</th>\n",
              "      <td>3.523</td>\n",
              "      <td>3.432</td>\n",
              "    </tr>\n",
              "    <tr>\n",
              "      <th>max</th>\n",
              "      <td>4.948</td>\n",
              "      <td>4.280</td>\n",
              "    </tr>\n",
              "  </tbody>\n",
              "</table>\n",
              "</div>"
            ],
            "text/plain": [
              "Year      2019     2020\n",
              "count  324.000  288.000\n",
              "mean     3.436    3.364\n",
              "std      0.260    0.174\n",
              "min      3.156    3.126\n",
              "25%      3.269    3.233\n",
              "50%      3.371    3.339\n",
              "75%      3.523    3.432\n",
              "max      4.948    4.280"
            ]
          },
          "metadata": {
            "tags": []
          },
          "execution_count": 262
        }
      ]
    },
    {
      "cell_type": "markdown",
      "metadata": {
        "id": "t9yulfl0O-9_",
        "colab_type": "text"
      },
      "source": [
        "It appears that 2020 was an improvement over 2019. Test whether the difference is significant or just chance."
      ]
    },
    {
      "cell_type": "code",
      "metadata": {
        "id": "3WkHQIEU0Nfj",
        "colab_type": "code",
        "outputId": "35746ac8-1b08-4fc2-8eb4-2c9fb149d818",
        "colab": {
          "base_uri": "https://localhost:8080/",
          "height": 33
        }
      },
      "source": [
        "stats.ttest_ind(prelims_df[prelims_df.Year.isin(['2019'])]['Time'], \n",
        "                prelims_df[prelims_df.Year.isin(['2020'])]['Time'])"
      ],
      "execution_count": 0,
      "outputs": [
        {
          "output_type": "execute_result",
          "data": {
            "text/plain": [
              "Ttest_indResult(statistic=4.006089398234697, pvalue=6.935678520563545e-05)"
            ]
          },
          "metadata": {
            "tags": []
          },
          "execution_count": 263
        }
      ]
    },
    {
      "cell_type": "markdown",
      "metadata": {
        "id": "xkgrvIwAPQuv",
        "colab_type": "text"
      },
      "source": [
        "Since pvalue < 0.05, we can reject the null hypothesis that the samples (2019 and 2020) are drawn from the same process. In other words, 2020 was a *significant* improvement over 2019."
      ]
    },
    {
      "cell_type": "markdown",
      "metadata": {
        "id": "C8E7uAcjP_Jh",
        "colab_type": "text"
      },
      "source": [
        "Let's see what the distribtion of times looks like by drawing a histogram, or frequency distribution."
      ]
    },
    {
      "cell_type": "code",
      "metadata": {
        "id": "HjBF71ZewbBa",
        "colab_type": "code",
        "outputId": "fe6cc732-d363-41d0-d16a-0febbb69f787",
        "colab": {
          "base_uri": "https://localhost:8080/",
          "height": 452
        }
      },
      "source": [
        "comps = {'Year' : ['2019', '2020']}\n",
        "compare_hist(prelims_df, comps, title=\"Preliminary Rounds\",\n",
        "         hist=True, norm_hist=False, kde=False)"
      ],
      "execution_count": 0,
      "outputs": [
        {
          "output_type": "display_data",
          "data": {
            "image/png": "[encoded data removed]",
            "text/plain": [
              "<Figure size 720x450 with 1 Axes>"
            ]
          },
          "metadata": {
            "tags": []
          }
        }
      ]
    },
    {
      "cell_type": "markdown",
      "metadata": {
        "id": "C9Elh4bmQKS_",
        "colab_type": "text"
      },
      "source": [
        "As there were fewer competitors in 2020, let's normalize the results. Also, to facilitate year-to-year comparison, we'll smooth the histograms and add lines representing average time by year."
      ]
    },
    {
      "cell_type": "code",
      "metadata": {
        "id": "ByvXOZuksqC4",
        "colab_type": "code",
        "outputId": "81f8d16e-5c7f-44c2-f4ad-2eda5999a7f6",
        "colab": {
          "base_uri": "https://localhost:8080/",
          "height": 452
        }
      },
      "source": [
        "comps = {'Year' : ['2019', '2020']}\n",
        "compare_hist(prelims_df, comps, title=\"Preliminary Rounds\",\n",
        "         hist=False, norm_hist=True, kde=True)"
      ],
      "execution_count": 0,
      "outputs": [
        {
          "output_type": "display_data",
          "data": {
            "image/png": "[encoded data removed]",
            "text/plain": [
              "<Figure size 720x450 with 1 Axes>"
            ]
          },
          "metadata": {
            "tags": []
          }
        }
      ]
    },
    {
      "cell_type": "markdown",
      "metadata": {
        "id": "_pFHzhARQplf",
        "colab_type": "text"
      },
      "source": [
        "We see that 2020 was not only faster but more consistent: the times were distributed more tightly around the average."
      ]
    },
    {
      "cell_type": "markdown",
      "metadata": {
        "id": "0-NN0QLTdr5X",
        "colab_type": "text"
      },
      "source": [
        "2019 vs 2020 broken down by den."
      ]
    },
    {
      "cell_type": "code",
      "metadata": {
        "id": "KzKzz3yyycXo",
        "colab_type": "code",
        "outputId": "612c7a67-2064-4ba0-9d2c-887699eb8cb0",
        "colab": {
          "base_uri": "https://localhost:8080/",
          "height": 306
        }
      },
      "source": [
        "prelims_df.groupby(['Year', 'Round'])['Time'].describe().round(3).T"
      ],
      "execution_count": 0,
      "outputs": [
        {
          "output_type": "execute_result",
          "data": {
            "text/html": [
              "<div>\n",
              "<style scoped>\n",
              "    .dataframe tbody tr th:only-of-type {\n",
              "        vertical-align: middle;\n",
              "    }\n",
              "\n",
              "    .dataframe tbody tr th {\n",
              "        vertical-align: top;\n",
              "    }\n",
              "\n",
              "    .dataframe thead tr th {\n",
              "        text-align: left;\n",
              "    }\n",
              "</style>\n",
              "<table border=\"1\" class=\"dataframe\">\n",
              "  <thead>\n",
              "    <tr>\n",
              "      <th>Year</th>\n",
              "      <th colspan=\"6\" halign=\"left\">2019</th>\n",
              "      <th colspan=\"6\" halign=\"left\">2020</th>\n",
              "    </tr>\n",
              "    <tr>\n",
              "      <th>Round</th>\n",
              "      <th>AOL</th>\n",
              "      <th>Bear</th>\n",
              "      <th>Lion</th>\n",
              "      <th>Tiger</th>\n",
              "      <th>Webelo</th>\n",
              "      <th>Wolf</th>\n",
              "      <th>AOL</th>\n",
              "      <th>Bear</th>\n",
              "      <th>Lion</th>\n",
              "      <th>Tiger</th>\n",
              "      <th>Webelo</th>\n",
              "      <th>Wolf</th>\n",
              "    </tr>\n",
              "  </thead>\n",
              "  <tbody>\n",
              "    <tr>\n",
              "      <th>count</th>\n",
              "      <td>42.000</td>\n",
              "      <td>72.000</td>\n",
              "      <td>78.000</td>\n",
              "      <td>54.000</td>\n",
              "      <td>30.000</td>\n",
              "      <td>48.000</td>\n",
              "      <td>24.000</td>\n",
              "      <td>36.000</td>\n",
              "      <td>24.000</td>\n",
              "      <td>96.000</td>\n",
              "      <td>60.000</td>\n",
              "      <td>48.000</td>\n",
              "    </tr>\n",
              "    <tr>\n",
              "      <th>mean</th>\n",
              "      <td>3.408</td>\n",
              "      <td>3.522</td>\n",
              "      <td>3.442</td>\n",
              "      <td>3.442</td>\n",
              "      <td>3.312</td>\n",
              "      <td>3.396</td>\n",
              "      <td>3.284</td>\n",
              "      <td>3.319</td>\n",
              "      <td>3.587</td>\n",
              "      <td>3.350</td>\n",
              "      <td>3.365</td>\n",
              "      <td>3.353</td>\n",
              "    </tr>\n",
              "    <tr>\n",
              "      <th>std</th>\n",
              "      <td>0.243</td>\n",
              "      <td>0.375</td>\n",
              "      <td>0.217</td>\n",
              "      <td>0.252</td>\n",
              "      <td>0.073</td>\n",
              "      <td>0.155</td>\n",
              "      <td>0.092</td>\n",
              "      <td>0.109</td>\n",
              "      <td>0.395</td>\n",
              "      <td>0.127</td>\n",
              "      <td>0.143</td>\n",
              "      <td>0.080</td>\n",
              "    </tr>\n",
              "    <tr>\n",
              "      <th>min</th>\n",
              "      <td>3.172</td>\n",
              "      <td>3.171</td>\n",
              "      <td>3.156</td>\n",
              "      <td>3.206</td>\n",
              "      <td>3.196</td>\n",
              "      <td>3.176</td>\n",
              "      <td>3.157</td>\n",
              "      <td>3.153</td>\n",
              "      <td>3.185</td>\n",
              "      <td>3.126</td>\n",
              "      <td>3.195</td>\n",
              "      <td>3.182</td>\n",
              "    </tr>\n",
              "    <tr>\n",
              "      <th>25%</th>\n",
              "      <td>3.248</td>\n",
              "      <td>3.273</td>\n",
              "      <td>3.248</td>\n",
              "      <td>3.315</td>\n",
              "      <td>3.273</td>\n",
              "      <td>3.255</td>\n",
              "      <td>3.210</td>\n",
              "      <td>3.212</td>\n",
              "      <td>3.222</td>\n",
              "      <td>3.247</td>\n",
              "      <td>3.237</td>\n",
              "      <td>3.323</td>\n",
              "    </tr>\n",
              "    <tr>\n",
              "      <th>50%</th>\n",
              "      <td>3.346</td>\n",
              "      <td>3.379</td>\n",
              "      <td>3.440</td>\n",
              "      <td>3.376</td>\n",
              "      <td>3.292</td>\n",
              "      <td>3.402</td>\n",
              "      <td>3.288</td>\n",
              "      <td>3.329</td>\n",
              "      <td>3.473</td>\n",
              "      <td>3.343</td>\n",
              "      <td>3.326</td>\n",
              "      <td>3.352</td>\n",
              "    </tr>\n",
              "    <tr>\n",
              "      <th>75%</th>\n",
              "      <td>3.485</td>\n",
              "      <td>3.667</td>\n",
              "      <td>3.574</td>\n",
              "      <td>3.437</td>\n",
              "      <td>3.342</td>\n",
              "      <td>3.509</td>\n",
              "      <td>3.362</td>\n",
              "      <td>3.392</td>\n",
              "      <td>3.920</td>\n",
              "      <td>3.459</td>\n",
              "      <td>3.464</td>\n",
              "      <td>3.407</td>\n",
              "    </tr>\n",
              "    <tr>\n",
              "      <th>max</th>\n",
              "      <td>4.146</td>\n",
              "      <td>4.948</td>\n",
              "      <td>3.978</td>\n",
              "      <td>4.275</td>\n",
              "      <td>3.457</td>\n",
              "      <td>3.736</td>\n",
              "      <td>3.426</td>\n",
              "      <td>3.525</td>\n",
              "      <td>4.280</td>\n",
              "      <td>3.629</td>\n",
              "      <td>3.695</td>\n",
              "      <td>3.472</td>\n",
              "    </tr>\n",
              "  </tbody>\n",
              "</table>\n",
              "</div>"
            ],
            "text/plain": [
              "Year     2019                          ...    2020                        \n",
              "Round     AOL    Bear    Lion   Tiger  ...    Lion   Tiger  Webelo    Wolf\n",
              "count  42.000  72.000  78.000  54.000  ...  24.000  96.000  60.000  48.000\n",
              "mean    3.408   3.522   3.442   3.442  ...   3.587   3.350   3.365   3.353\n",
              "std     0.243   0.375   0.217   0.252  ...   0.395   0.127   0.143   0.080\n",
              "min     3.172   3.171   3.156   3.206  ...   3.185   3.126   3.195   3.182\n",
              "25%     3.248   3.273   3.248   3.315  ...   3.222   3.247   3.237   3.323\n",
              "50%     3.346   3.379   3.440   3.376  ...   3.473   3.343   3.326   3.352\n",
              "75%     3.485   3.667   3.574   3.437  ...   3.920   3.459   3.464   3.407\n",
              "max     4.146   4.948   3.978   4.275  ...   4.280   3.629   3.695   3.472\n",
              "\n",
              "[8 rows x 12 columns]"
            ]
          },
          "metadata": {
            "tags": []
          },
          "execution_count": 266
        }
      ]
    },
    {
      "cell_type": "markdown",
      "metadata": {
        "id": "5gz7lp-Rl4Qe",
        "colab_type": "text"
      },
      "source": [
        "Average Time by car in the prelims, the top 10. \n",
        "* Z-score, or standard score, indicates how fast each car was that in terms of standard deviations from the overall average.See https://en.wikipedia.org/wiki/Standard_score for more info.\n",
        "* If `means=True`, Time and Stdev are the mean time and standard deviation for that car."
      ]
    },
    {
      "cell_type": "code",
      "metadata": {
        "id": "XBkaM-vvqdkG",
        "colab_type": "code",
        "outputId": "c5541c61-c238-4d1c-ca73-bce5253b25c0",
        "colab": {
          "base_uri": "https://localhost:8080/",
          "height": 335
        }
      },
      "source": [
        "filter_dict = {'Year' :['2020']}\n",
        "top_times(prelims_df, filter_dict, means=True, top=10)"
      ],
      "execution_count": 0,
      "outputs": [
        {
          "output_type": "execute_result",
          "data": {
            "text/html": [
              "<div>\n",
              "<style scoped>\n",
              "    .dataframe tbody tr th:only-of-type {\n",
              "        vertical-align: middle;\n",
              "    }\n",
              "\n",
              "    .dataframe tbody tr th {\n",
              "        vertical-align: top;\n",
              "    }\n",
              "\n",
              "    .dataframe thead th {\n",
              "        text-align: right;\n",
              "    }\n",
              "</style>\n",
              "<table border=\"1\" class=\"dataframe\">\n",
              "  <thead>\n",
              "    <tr style=\"text-align: right;\">\n",
              "      <th></th>\n",
              "      <th>Car</th>\n",
              "      <th>Last Name</th>\n",
              "      <th>First Name</th>\n",
              "      <th>Time</th>\n",
              "      <th>Stdev</th>\n",
              "      <th>Z-score</th>\n",
              "    </tr>\n",
              "  </thead>\n",
              "  <tbody>\n",
              "    <tr>\n",
              "      <th>1</th>\n",
              "      <td>56</td>\n",
              "      <td>Schoonover</td>\n",
              "      <td>Adelyn</td>\n",
              "      <td>3.141383</td>\n",
              "      <td>0.004749</td>\n",
              "      <td>-1.312068</td>\n",
              "    </tr>\n",
              "    <tr>\n",
              "      <th>2</th>\n",
              "      <td>54</td>\n",
              "      <td>Schoonover</td>\n",
              "      <td>Isaac</td>\n",
              "      <td>3.183133</td>\n",
              "      <td>0.023797</td>\n",
              "      <td>-1.065954</td>\n",
              "    </tr>\n",
              "    <tr>\n",
              "      <th>3</th>\n",
              "      <td>26</td>\n",
              "      <td>Townsend</td>\n",
              "      <td>Kolby</td>\n",
              "      <td>3.184133</td>\n",
              "      <td>0.042460</td>\n",
              "      <td>-1.060059</td>\n",
              "    </tr>\n",
              "    <tr>\n",
              "      <th>4</th>\n",
              "      <td>44</td>\n",
              "      <td>Kunkel</td>\n",
              "      <td>Tristan</td>\n",
              "      <td>3.188883</td>\n",
              "      <td>0.008273</td>\n",
              "      <td>-1.032058</td>\n",
              "    </tr>\n",
              "    <tr>\n",
              "      <th>5</th>\n",
              "      <td>2</td>\n",
              "      <td>Evers</td>\n",
              "      <td>Charlie</td>\n",
              "      <td>3.192350</td>\n",
              "      <td>0.021509</td>\n",
              "      <td>-1.011622</td>\n",
              "    </tr>\n",
              "    <tr>\n",
              "      <th>6</th>\n",
              "      <td>55</td>\n",
              "      <td>Schoonover</td>\n",
              "      <td>Aubrey</td>\n",
              "      <td>3.192467</td>\n",
              "      <td>0.042829</td>\n",
              "      <td>-1.010935</td>\n",
              "    </tr>\n",
              "    <tr>\n",
              "      <th>7</th>\n",
              "      <td>62</td>\n",
              "      <td>Hobson</td>\n",
              "      <td>Atticus</td>\n",
              "      <td>3.205767</td>\n",
              "      <td>0.011815</td>\n",
              "      <td>-0.932532</td>\n",
              "    </tr>\n",
              "    <tr>\n",
              "      <th>8</th>\n",
              "      <td>9</td>\n",
              "      <td>Wilson</td>\n",
              "      <td>Joshua</td>\n",
              "      <td>3.219917</td>\n",
              "      <td>0.012830</td>\n",
              "      <td>-0.849119</td>\n",
              "    </tr>\n",
              "    <tr>\n",
              "      <th>9</th>\n",
              "      <td>63</td>\n",
              "      <td>Hobson</td>\n",
              "      <td>Lucas</td>\n",
              "      <td>3.220367</td>\n",
              "      <td>0.003140</td>\n",
              "      <td>-0.846466</td>\n",
              "    </tr>\n",
              "    <tr>\n",
              "      <th>10</th>\n",
              "      <td>61</td>\n",
              "      <td>Hobson</td>\n",
              "      <td>Everett</td>\n",
              "      <td>3.222833</td>\n",
              "      <td>0.017074</td>\n",
              "      <td>-0.831925</td>\n",
              "    </tr>\n",
              "  </tbody>\n",
              "</table>\n",
              "</div>"
            ],
            "text/plain": [
              "   Car   Last Name First Name      Time     Stdev   Z-score\n",
              "1   56  Schoonover     Adelyn  3.141383  0.004749 -1.312068\n",
              "2   54  Schoonover      Isaac  3.183133  0.023797 -1.065954\n",
              "3   26    Townsend      Kolby  3.184133  0.042460 -1.060059\n",
              "4   44      Kunkel    Tristan  3.188883  0.008273 -1.032058\n",
              "5    2       Evers    Charlie  3.192350  0.021509 -1.011622\n",
              "6   55  Schoonover     Aubrey  3.192467  0.042829 -1.010935\n",
              "7   62      Hobson    Atticus  3.205767  0.011815 -0.932532\n",
              "8    9      Wilson     Joshua  3.219917  0.012830 -0.849119\n",
              "9   63      Hobson      Lucas  3.220367  0.003140 -0.846466\n",
              "10  61      Hobson    Everett  3.222833  0.017074 -0.831925"
            ]
          },
          "metadata": {
            "tags": []
          },
          "execution_count": 267
        }
      ]
    },
    {
      "cell_type": "markdown",
      "metadata": {
        "id": "fWeHIc5nd0Ys",
        "colab_type": "text"
      },
      "source": [
        "And here are the top 10 individual Times in the prelims."
      ]
    },
    {
      "cell_type": "code",
      "metadata": {
        "id": "2b3Gn3lLElyw",
        "colab_type": "code",
        "outputId": "7057b275-65c9-4b46-9867-ecc27440655d",
        "colab": {
          "base_uri": "https://localhost:8080/",
          "height": 335
        }
      },
      "source": [
        "filter_dict = {'Year' :['2020']}\n",
        "top_times(prelims_df, filter_dict, means=False)"
      ],
      "execution_count": 0,
      "outputs": [
        {
          "output_type": "execute_result",
          "data": {
            "text/html": [
              "<div>\n",
              "<style scoped>\n",
              "    .dataframe tbody tr th:only-of-type {\n",
              "        vertical-align: middle;\n",
              "    }\n",
              "\n",
              "    .dataframe tbody tr th {\n",
              "        vertical-align: top;\n",
              "    }\n",
              "\n",
              "    .dataframe thead th {\n",
              "        text-align: right;\n",
              "    }\n",
              "</style>\n",
              "<table border=\"1\" class=\"dataframe\">\n",
              "  <thead>\n",
              "    <tr style=\"text-align: right;\">\n",
              "      <th></th>\n",
              "      <th>index</th>\n",
              "      <th>Car</th>\n",
              "      <th>Last Name</th>\n",
              "      <th>First Name</th>\n",
              "      <th>Lane</th>\n",
              "      <th>Time</th>\n",
              "      <th>Z-score</th>\n",
              "    </tr>\n",
              "  </thead>\n",
              "  <tbody>\n",
              "    <tr>\n",
              "      <th>1</th>\n",
              "      <td>971</td>\n",
              "      <td>55</td>\n",
              "      <td>Schoonover</td>\n",
              "      <td>Aubrey</td>\n",
              "      <td>6</td>\n",
              "      <td>3.1256</td>\n",
              "      <td>-1.371733</td>\n",
              "    </tr>\n",
              "    <tr>\n",
              "      <th>2</th>\n",
              "      <td>960</td>\n",
              "      <td>56</td>\n",
              "      <td>Schoonover</td>\n",
              "      <td>Adelyn</td>\n",
              "      <td>1</td>\n",
              "      <td>3.1347</td>\n",
              "      <td>-1.319364</td>\n",
              "    </tr>\n",
              "    <tr>\n",
              "      <th>3</th>\n",
              "      <td>881</td>\n",
              "      <td>56</td>\n",
              "      <td>Schoonover</td>\n",
              "      <td>Adelyn</td>\n",
              "      <td>6</td>\n",
              "      <td>3.1380</td>\n",
              "      <td>-1.300372</td>\n",
              "    </tr>\n",
              "    <tr>\n",
              "      <th>4</th>\n",
              "      <td>916</td>\n",
              "      <td>56</td>\n",
              "      <td>Schoonover</td>\n",
              "      <td>Adelyn</td>\n",
              "      <td>5</td>\n",
              "      <td>3.1403</td>\n",
              "      <td>-1.287136</td>\n",
              "    </tr>\n",
              "    <tr>\n",
              "      <th>5</th>\n",
              "      <td>955</td>\n",
              "      <td>56</td>\n",
              "      <td>Schoonover</td>\n",
              "      <td>Adelyn</td>\n",
              "      <td>2</td>\n",
              "      <td>3.1425</td>\n",
              "      <td>-1.274475</td>\n",
              "    </tr>\n",
              "    <tr>\n",
              "      <th>6</th>\n",
              "      <td>933</td>\n",
              "      <td>56</td>\n",
              "      <td>Schoonover</td>\n",
              "      <td>Adelyn</td>\n",
              "      <td>4</td>\n",
              "      <td>3.1450</td>\n",
              "      <td>-1.260088</td>\n",
              "    </tr>\n",
              "    <tr>\n",
              "      <th>7</th>\n",
              "      <td>944</td>\n",
              "      <td>56</td>\n",
              "      <td>Schoonover</td>\n",
              "      <td>Adelyn</td>\n",
              "      <td>3</td>\n",
              "      <td>3.1478</td>\n",
              "      <td>-1.243974</td>\n",
              "    </tr>\n",
              "    <tr>\n",
              "      <th>8</th>\n",
              "      <td>1131</td>\n",
              "      <td>54</td>\n",
              "      <td>Schoonover</td>\n",
              "      <td>Isaac</td>\n",
              "      <td>4</td>\n",
              "      <td>3.1528</td>\n",
              "      <td>-1.215200</td>\n",
              "    </tr>\n",
              "    <tr>\n",
              "      <th>9</th>\n",
              "      <td>1179</td>\n",
              "      <td>26</td>\n",
              "      <td>Townsend</td>\n",
              "      <td>Kolby</td>\n",
              "      <td>4</td>\n",
              "      <td>3.1567</td>\n",
              "      <td>-1.192756</td>\n",
              "    </tr>\n",
              "    <tr>\n",
              "      <th>10</th>\n",
              "      <td>1165</td>\n",
              "      <td>26</td>\n",
              "      <td>Townsend</td>\n",
              "      <td>Kolby</td>\n",
              "      <td>2</td>\n",
              "      <td>3.1625</td>\n",
              "      <td>-1.159377</td>\n",
              "    </tr>\n",
              "  </tbody>\n",
              "</table>\n",
              "</div>"
            ],
            "text/plain": [
              "    index Car   Last Name First Name  Lane    Time   Z-score\n",
              "1     971  55  Schoonover     Aubrey     6  3.1256 -1.371733\n",
              "2     960  56  Schoonover     Adelyn     1  3.1347 -1.319364\n",
              "3     881  56  Schoonover     Adelyn     6  3.1380 -1.300372\n",
              "4     916  56  Schoonover     Adelyn     5  3.1403 -1.287136\n",
              "5     955  56  Schoonover     Adelyn     2  3.1425 -1.274475\n",
              "6     933  56  Schoonover     Adelyn     4  3.1450 -1.260088\n",
              "7     944  56  Schoonover     Adelyn     3  3.1478 -1.243974\n",
              "8    1131  54  Schoonover      Isaac     4  3.1528 -1.215200\n",
              "9    1179  26    Townsend      Kolby     4  3.1567 -1.192756\n",
              "10   1165  26    Townsend      Kolby     2  3.1625 -1.159377"
            ]
          },
          "metadata": {
            "tags": []
          },
          "execution_count": 268
        }
      ]
    },
    {
      "cell_type": "markdown",
      "metadata": {
        "id": "BADd0l62d_Cb",
        "colab_type": "text"
      },
      "source": [
        "Notice that car 55 had the fastest individual Time, even though it had the 6th fastest average Time. Moreover, it had the highest standard deviation of any car in the top 10. Here are all its individual times."
      ]
    },
    {
      "cell_type": "code",
      "metadata": {
        "id": "RTI49PcpDdIa",
        "colab_type": "code",
        "outputId": "f7ec0017-ef8c-452a-fe1c-4776ca7a8f8f",
        "colab": {
          "base_uri": "https://localhost:8080/",
          "height": 220
        }
      },
      "source": [
        "prelims_df[prelims_df.Car.isin([55])].sort_values('Lane')"
      ],
      "execution_count": 0,
      "outputs": [
        {
          "output_type": "execute_result",
          "data": {
            "text/html": [
              "<div>\n",
              "<style scoped>\n",
              "    .dataframe tbody tr th:only-of-type {\n",
              "        vertical-align: middle;\n",
              "    }\n",
              "\n",
              "    .dataframe tbody tr th {\n",
              "        vertical-align: top;\n",
              "    }\n",
              "\n",
              "    .dataframe thead th {\n",
              "        text-align: right;\n",
              "    }\n",
              "</style>\n",
              "<table border=\"1\" class=\"dataframe\">\n",
              "  <thead>\n",
              "    <tr style=\"text-align: right;\">\n",
              "      <th></th>\n",
              "      <th>Heat</th>\n",
              "      <th>Lane</th>\n",
              "      <th>Last Name</th>\n",
              "      <th>First Name</th>\n",
              "      <th>Car</th>\n",
              "      <th>Time</th>\n",
              "      <th>Place</th>\n",
              "      <th>MPH</th>\n",
              "      <th>Round</th>\n",
              "      <th>Year</th>\n",
              "    </tr>\n",
              "  </thead>\n",
              "  <tbody>\n",
              "    <tr>\n",
              "      <th>954</th>\n",
              "      <td>14</td>\n",
              "      <td>1</td>\n",
              "      <td>Schoonover</td>\n",
              "      <td>Aubrey</td>\n",
              "      <td>55</td>\n",
              "      <td>3.2161</td>\n",
              "      <td>2.0</td>\n",
              "      <td>222.60</td>\n",
              "      <td>Tiger</td>\n",
              "      <td>2020</td>\n",
              "    </tr>\n",
              "    <tr>\n",
              "      <th>949</th>\n",
              "      <td>13</td>\n",
              "      <td>2</td>\n",
              "      <td>Schoonover</td>\n",
              "      <td>Aubrey</td>\n",
              "      <td>55</td>\n",
              "      <td>3.2048</td>\n",
              "      <td>1.0</td>\n",
              "      <td>223.39</td>\n",
              "      <td>Tiger</td>\n",
              "      <td>2020</td>\n",
              "    </tr>\n",
              "    <tr>\n",
              "      <th>938</th>\n",
              "      <td>11</td>\n",
              "      <td>3</td>\n",
              "      <td>Schoonover</td>\n",
              "      <td>Aubrey</td>\n",
              "      <td>55</td>\n",
              "      <td>3.2490</td>\n",
              "      <td>2.0</td>\n",
              "      <td>220.35</td>\n",
              "      <td>Tiger</td>\n",
              "      <td>2020</td>\n",
              "    </tr>\n",
              "    <tr>\n",
              "      <th>927</th>\n",
              "      <td>9</td>\n",
              "      <td>4</td>\n",
              "      <td>Schoonover</td>\n",
              "      <td>Aubrey</td>\n",
              "      <td>55</td>\n",
              "      <td>3.1949</td>\n",
              "      <td>1.0</td>\n",
              "      <td>224.08</td>\n",
              "      <td>Tiger</td>\n",
              "      <td>2020</td>\n",
              "    </tr>\n",
              "    <tr>\n",
              "      <th>910</th>\n",
              "      <td>6</td>\n",
              "      <td>5</td>\n",
              "      <td>Schoonover</td>\n",
              "      <td>Aubrey</td>\n",
              "      <td>55</td>\n",
              "      <td>3.1644</td>\n",
              "      <td>1.0</td>\n",
              "      <td>226.24</td>\n",
              "      <td>Tiger</td>\n",
              "      <td>2020</td>\n",
              "    </tr>\n",
              "    <tr>\n",
              "      <th>971</th>\n",
              "      <td>16</td>\n",
              "      <td>6</td>\n",
              "      <td>Schoonover</td>\n",
              "      <td>Aubrey</td>\n",
              "      <td>55</td>\n",
              "      <td>3.1256</td>\n",
              "      <td>1.0</td>\n",
              "      <td>229.05</td>\n",
              "      <td>Tiger</td>\n",
              "      <td>2020</td>\n",
              "    </tr>\n",
              "  </tbody>\n",
              "</table>\n",
              "</div>"
            ],
            "text/plain": [
              "     Heat  Lane   Last Name First Name Car    Time  Place     MPH  Round  Year\n",
              "954    14     1  Schoonover     Aubrey  55  3.2161    2.0  222.60  Tiger  2020\n",
              "949    13     2  Schoonover     Aubrey  55  3.2048    1.0  223.39  Tiger  2020\n",
              "938    11     3  Schoonover     Aubrey  55  3.2490    2.0  220.35  Tiger  2020\n",
              "927     9     4  Schoonover     Aubrey  55  3.1949    1.0  224.08  Tiger  2020\n",
              "910     6     5  Schoonover     Aubrey  55  3.1644    1.0  226.24  Tiger  2020\n",
              "971    16     6  Schoonover     Aubrey  55  3.1256    1.0  229.05  Tiger  2020"
            ]
          },
          "metadata": {
            "tags": []
          },
          "execution_count": 269
        }
      ]
    },
    {
      "cell_type": "markdown",
      "metadata": {
        "id": "Pu4L_RmXfRq6",
        "colab_type": "text"
      },
      "source": [
        "Average Time by car in the 2019 prelims, the top 10."
      ]
    },
    {
      "cell_type": "code",
      "metadata": {
        "id": "JFt43Kwuvsul",
        "colab_type": "code",
        "outputId": "eb3eaa51-a4ab-4786-97aa-48dc40258a8c",
        "colab": {
          "base_uri": "https://localhost:8080/",
          "height": 335
        }
      },
      "source": [
        "filter_dict = {'Year' :['2019']}\n",
        "top_times(prelims_df, filter_dict, means=True)"
      ],
      "execution_count": 0,
      "outputs": [
        {
          "output_type": "execute_result",
          "data": {
            "text/html": [
              "<div>\n",
              "<style scoped>\n",
              "    .dataframe tbody tr th:only-of-type {\n",
              "        vertical-align: middle;\n",
              "    }\n",
              "\n",
              "    .dataframe tbody tr th {\n",
              "        vertical-align: top;\n",
              "    }\n",
              "\n",
              "    .dataframe thead th {\n",
              "        text-align: right;\n",
              "    }\n",
              "</style>\n",
              "<table border=\"1\" class=\"dataframe\">\n",
              "  <thead>\n",
              "    <tr style=\"text-align: right;\">\n",
              "      <th></th>\n",
              "      <th>Car</th>\n",
              "      <th>Last Name</th>\n",
              "      <th>First Name</th>\n",
              "      <th>Time</th>\n",
              "      <th>Stdev</th>\n",
              "      <th>Z-score</th>\n",
              "    </tr>\n",
              "  </thead>\n",
              "  <tbody>\n",
              "    <tr>\n",
              "      <th>1</th>\n",
              "      <td>30</td>\n",
              "      <td>Schoonover</td>\n",
              "      <td>Aubrey</td>\n",
              "      <td>3.177917</td>\n",
              "      <td>0.020135</td>\n",
              "      <td>-1.038902</td>\n",
              "    </tr>\n",
              "    <tr>\n",
              "      <th>2</th>\n",
              "      <td>31</td>\n",
              "      <td>Schoonover</td>\n",
              "      <td>Adelyn</td>\n",
              "      <td>3.180867</td>\n",
              "      <td>0.026143</td>\n",
              "      <td>-1.027049</td>\n",
              "    </tr>\n",
              "    <tr>\n",
              "      <th>3</th>\n",
              "      <td>14</td>\n",
              "      <td>Holt</td>\n",
              "      <td>George</td>\n",
              "      <td>3.186500</td>\n",
              "      <td>0.017309</td>\n",
              "      <td>-1.004415</td>\n",
              "    </tr>\n",
              "    <tr>\n",
              "      <th>4</th>\n",
              "      <td>43</td>\n",
              "      <td>Evers</td>\n",
              "      <td>Charlie</td>\n",
              "      <td>3.202167</td>\n",
              "      <td>0.023047</td>\n",
              "      <td>-0.941469</td>\n",
              "    </tr>\n",
              "    <tr>\n",
              "      <th>5</th>\n",
              "      <td>50</td>\n",
              "      <td>Cundiff</td>\n",
              "      <td>Cade</td>\n",
              "      <td>3.203967</td>\n",
              "      <td>0.009280</td>\n",
              "      <td>-0.934237</td>\n",
              "    </tr>\n",
              "    <tr>\n",
              "      <th>6</th>\n",
              "      <td>51</td>\n",
              "      <td>Cundiff</td>\n",
              "      <td>Reed</td>\n",
              "      <td>3.212033</td>\n",
              "      <td>0.007044</td>\n",
              "      <td>-0.901826</td>\n",
              "    </tr>\n",
              "    <tr>\n",
              "      <th>7</th>\n",
              "      <td>15</td>\n",
              "      <td>Ferguson</td>\n",
              "      <td>Eli</td>\n",
              "      <td>3.216883</td>\n",
              "      <td>0.017884</td>\n",
              "      <td>-0.882340</td>\n",
              "    </tr>\n",
              "    <tr>\n",
              "      <th>8</th>\n",
              "      <td>63</td>\n",
              "      <td>Mulgrew</td>\n",
              "      <td>Jackson</td>\n",
              "      <td>3.222100</td>\n",
              "      <td>0.018453</td>\n",
              "      <td>-0.861380</td>\n",
              "    </tr>\n",
              "    <tr>\n",
              "      <th>9</th>\n",
              "      <td>16</td>\n",
              "      <td>Kunkel</td>\n",
              "      <td>Tristan</td>\n",
              "      <td>3.229817</td>\n",
              "      <td>0.030662</td>\n",
              "      <td>-0.830375</td>\n",
              "    </tr>\n",
              "    <tr>\n",
              "      <th>10</th>\n",
              "      <td>46</td>\n",
              "      <td>Bramlett</td>\n",
              "      <td>Hudson</td>\n",
              "      <td>3.230933</td>\n",
              "      <td>0.019624</td>\n",
              "      <td>-0.825889</td>\n",
              "    </tr>\n",
              "  </tbody>\n",
              "</table>\n",
              "</div>"
            ],
            "text/plain": [
              "   Car   Last Name First Name      Time     Stdev   Z-score\n",
              "1   30  Schoonover     Aubrey  3.177917  0.020135 -1.038902\n",
              "2   31  Schoonover     Adelyn  3.180867  0.026143 -1.027049\n",
              "3   14        Holt     George  3.186500  0.017309 -1.004415\n",
              "4   43       Evers    Charlie  3.202167  0.023047 -0.941469\n",
              "5   50     Cundiff       Cade  3.203967  0.009280 -0.934237\n",
              "6   51     Cundiff       Reed  3.212033  0.007044 -0.901826\n",
              "7   15    Ferguson        Eli  3.216883  0.017884 -0.882340\n",
              "8   63     Mulgrew    Jackson  3.222100  0.018453 -0.861380\n",
              "9   16      Kunkel    Tristan  3.229817  0.030662 -0.830375\n",
              "10  46    Bramlett     Hudson  3.230933  0.019624 -0.825889"
            ]
          },
          "metadata": {
            "tags": []
          },
          "execution_count": 270
        }
      ]
    },
    {
      "cell_type": "markdown",
      "metadata": {
        "id": "_ZOLA5s9fcdd",
        "colab_type": "text"
      },
      "source": [
        "And here are the top 10 individual Times in the 2019 prelims."
      ]
    },
    {
      "cell_type": "code",
      "metadata": {
        "id": "zCTx5fXoE8jK",
        "colab_type": "code",
        "outputId": "a9d3704d-ce03-49ea-8110-d622635c5609",
        "colab": {
          "base_uri": "https://localhost:8080/",
          "height": 335
        }
      },
      "source": [
        "filter_dict = {'Year' :['2019']}\n",
        "top_times(prelims_df, filter_dict, means=False)"
      ],
      "execution_count": 0,
      "outputs": [
        {
          "output_type": "execute_result",
          "data": {
            "text/html": [
              "<div>\n",
              "<style scoped>\n",
              "    .dataframe tbody tr th:only-of-type {\n",
              "        vertical-align: middle;\n",
              "    }\n",
              "\n",
              "    .dataframe tbody tr th {\n",
              "        vertical-align: top;\n",
              "    }\n",
              "\n",
              "    .dataframe thead th {\n",
              "        text-align: right;\n",
              "    }\n",
              "</style>\n",
              "<table border=\"1\" class=\"dataframe\">\n",
              "  <thead>\n",
              "    <tr style=\"text-align: right;\">\n",
              "      <th></th>\n",
              "      <th>index</th>\n",
              "      <th>Car</th>\n",
              "      <th>Last Name</th>\n",
              "      <th>First Name</th>\n",
              "      <th>Lane</th>\n",
              "      <th>Time</th>\n",
              "      <th>Z-score</th>\n",
              "    </tr>\n",
              "  </thead>\n",
              "  <tbody>\n",
              "    <tr>\n",
              "      <th>1</th>\n",
              "      <td>421</td>\n",
              "      <td>31</td>\n",
              "      <td>Schoonover</td>\n",
              "      <td>Adelyn</td>\n",
              "      <td>2</td>\n",
              "      <td>3.1564</td>\n",
              "      <td>-1.077618</td>\n",
              "    </tr>\n",
              "    <tr>\n",
              "      <th>2</th>\n",
              "      <td>379</td>\n",
              "      <td>30</td>\n",
              "      <td>Schoonover</td>\n",
              "      <td>Aubrey</td>\n",
              "      <td>2</td>\n",
              "      <td>3.1629</td>\n",
              "      <td>-1.052610</td>\n",
              "    </tr>\n",
              "    <tr>\n",
              "      <th>3</th>\n",
              "      <td>410</td>\n",
              "      <td>30</td>\n",
              "      <td>Schoonover</td>\n",
              "      <td>Aubrey</td>\n",
              "      <td>3</td>\n",
              "      <td>3.1644</td>\n",
              "      <td>-1.046839</td>\n",
              "    </tr>\n",
              "    <tr>\n",
              "      <th>4</th>\n",
              "      <td>392</td>\n",
              "      <td>31</td>\n",
              "      <td>Schoonover</td>\n",
              "      <td>Adelyn</td>\n",
              "      <td>3</td>\n",
              "      <td>3.1661</td>\n",
              "      <td>-1.040298</td>\n",
              "    </tr>\n",
              "    <tr>\n",
              "      <th>5</th>\n",
              "      <td>363</td>\n",
              "      <td>30</td>\n",
              "      <td>Schoonover</td>\n",
              "      <td>Aubrey</td>\n",
              "      <td>4</td>\n",
              "      <td>3.1707</td>\n",
              "      <td>-1.022600</td>\n",
              "    </tr>\n",
              "    <tr>\n",
              "      <th>6</th>\n",
              "      <td>242</td>\n",
              "      <td>14</td>\n",
              "      <td>Holt</td>\n",
              "      <td>George</td>\n",
              "      <td>3</td>\n",
              "      <td>3.1708</td>\n",
              "      <td>-1.022215</td>\n",
              "    </tr>\n",
              "    <tr>\n",
              "      <th>7</th>\n",
              "      <td>401</td>\n",
              "      <td>31</td>\n",
              "      <td>Schoonover</td>\n",
              "      <td>Adelyn</td>\n",
              "      <td>6</td>\n",
              "      <td>3.1710</td>\n",
              "      <td>-1.021446</td>\n",
              "    </tr>\n",
              "    <tr>\n",
              "      <th>8</th>\n",
              "      <td>116</td>\n",
              "      <td>54</td>\n",
              "      <td>Evers</td>\n",
              "      <td>Justin</td>\n",
              "      <td>3</td>\n",
              "      <td>3.1715</td>\n",
              "      <td>-1.019522</td>\n",
              "    </tr>\n",
              "    <tr>\n",
              "      <th>9</th>\n",
              "      <td>430</td>\n",
              "      <td>31</td>\n",
              "      <td>Schoonover</td>\n",
              "      <td>Adelyn</td>\n",
              "      <td>5</td>\n",
              "      <td>3.1733</td>\n",
              "      <td>-1.012596</td>\n",
              "    </tr>\n",
              "    <tr>\n",
              "      <th>10</th>\n",
              "      <td>286</td>\n",
              "      <td>14</td>\n",
              "      <td>Holt</td>\n",
              "      <td>George</td>\n",
              "      <td>5</td>\n",
              "      <td>3.1738</td>\n",
              "      <td>-1.010673</td>\n",
              "    </tr>\n",
              "  </tbody>\n",
              "</table>\n",
              "</div>"
            ],
            "text/plain": [
              "    index Car   Last Name First Name  Lane    Time   Z-score\n",
              "1     421  31  Schoonover     Adelyn     2  3.1564 -1.077618\n",
              "2     379  30  Schoonover     Aubrey     2  3.1629 -1.052610\n",
              "3     410  30  Schoonover     Aubrey     3  3.1644 -1.046839\n",
              "4     392  31  Schoonover     Adelyn     3  3.1661 -1.040298\n",
              "5     363  30  Schoonover     Aubrey     4  3.1707 -1.022600\n",
              "6     242  14        Holt     George     3  3.1708 -1.022215\n",
              "7     401  31  Schoonover     Adelyn     6  3.1710 -1.021446\n",
              "8     116  54       Evers     Justin     3  3.1715 -1.019522\n",
              "9     430  31  Schoonover     Adelyn     5  3.1733 -1.012596\n",
              "10    286  14        Holt     George     5  3.1738 -1.010673"
            ]
          },
          "metadata": {
            "tags": []
          },
          "execution_count": 271
        }
      ]
    },
    {
      "cell_type": "markdown",
      "metadata": {
        "id": "-LV8XZZZsUXw",
        "colab_type": "text"
      },
      "source": [
        "Of those scouts who competed in both 2019 and 2020, who improved the most?"
      ]
    },
    {
      "cell_type": "code",
      "metadata": {
        "id": "ulSkKHRKsUms",
        "colab_type": "code",
        "outputId": "9fd7c402-2308-4bc2-f530-21c9d039aa90",
        "colab": {
          "base_uri": "https://localhost:8080/",
          "height": 335
        }
      },
      "source": [
        "name_columns = ['Last Name','First Name']\n",
        "\n",
        "p2020_df = top_times(prelims_df, {'Year':['2020']}, means=True, top=None)\n",
        "p2019_df = top_times(prelims_df, {'Year':['2019']}, means=True, top=None)\n",
        "\n",
        "inner_df = pd.merge(left=p2020_df, right=p2019_df, \n",
        "                    left_on=name_columns, right_on=name_columns,\n",
        "                    suffixes=('_2020', '_2019'))\n",
        "\n",
        "inner_df.drop(['Car_2020','Car_2019', 'Stdev_2020', 'Stdev_2019',\n",
        "               'Z-score_2020', 'Z-score_2019'], axis=1, inplace=True)\n",
        "\n",
        "inner_df['Diff'] = inner_df['Time_2020'] - inner_df['Time_2019']\n",
        "inner_df = inner_df.sort_values('Diff').head(10)\n",
        "inner_df = inner_df.reset_index()\n",
        "inner_df.index += 1 \n",
        "inner_df"
      ],
      "execution_count": 0,
      "outputs": [
        {
          "output_type": "execute_result",
          "data": {
            "text/html": [
              "<div>\n",
              "<style scoped>\n",
              "    .dataframe tbody tr th:only-of-type {\n",
              "        vertical-align: middle;\n",
              "    }\n",
              "\n",
              "    .dataframe tbody tr th {\n",
              "        vertical-align: top;\n",
              "    }\n",
              "\n",
              "    .dataframe thead th {\n",
              "        text-align: right;\n",
              "    }\n",
              "</style>\n",
              "<table border=\"1\" class=\"dataframe\">\n",
              "  <thead>\n",
              "    <tr style=\"text-align: right;\">\n",
              "      <th></th>\n",
              "      <th>index</th>\n",
              "      <th>Last Name</th>\n",
              "      <th>First Name</th>\n",
              "      <th>Time_2020</th>\n",
              "      <th>Time_2019</th>\n",
              "      <th>Diff</th>\n",
              "    </tr>\n",
              "  </thead>\n",
              "  <tbody>\n",
              "    <tr>\n",
              "      <th>1</th>\n",
              "      <td>19</td>\n",
              "      <td>Ricketts</td>\n",
              "      <td>Sean</td>\n",
              "      <td>3.382117</td>\n",
              "      <td>4.464883</td>\n",
              "      <td>-1.082767</td>\n",
              "    </tr>\n",
              "    <tr>\n",
              "      <th>2</th>\n",
              "      <td>11</td>\n",
              "      <td>Tipton</td>\n",
              "      <td>Zechariah</td>\n",
              "      <td>3.315933</td>\n",
              "      <td>3.656217</td>\n",
              "      <td>-0.340283</td>\n",
              "    </tr>\n",
              "    <tr>\n",
              "      <th>3</th>\n",
              "      <td>14</td>\n",
              "      <td>Douthitt</td>\n",
              "      <td>Savannah Rose</td>\n",
              "      <td>3.347433</td>\n",
              "      <td>3.664633</td>\n",
              "      <td>-0.317200</td>\n",
              "    </tr>\n",
              "    <tr>\n",
              "      <th>4</th>\n",
              "      <td>8</td>\n",
              "      <td>McCabe</td>\n",
              "      <td>Madison</td>\n",
              "      <td>3.241033</td>\n",
              "      <td>3.528417</td>\n",
              "      <td>-0.287383</td>\n",
              "    </tr>\n",
              "    <tr>\n",
              "      <th>5</th>\n",
              "      <td>1</td>\n",
              "      <td>Schoonover</td>\n",
              "      <td>Isaac</td>\n",
              "      <td>3.183133</td>\n",
              "      <td>3.377300</td>\n",
              "      <td>-0.194167</td>\n",
              "    </tr>\n",
              "    <tr>\n",
              "      <th>6</th>\n",
              "      <td>24</td>\n",
              "      <td>Franken</td>\n",
              "      <td>Ville</td>\n",
              "      <td>3.465950</td>\n",
              "      <td>3.646750</td>\n",
              "      <td>-0.180800</td>\n",
              "    </tr>\n",
              "    <tr>\n",
              "      <th>7</th>\n",
              "      <td>16</td>\n",
              "      <td>Shelton</td>\n",
              "      <td>Starry</td>\n",
              "      <td>3.355100</td>\n",
              "      <td>3.502933</td>\n",
              "      <td>-0.147833</td>\n",
              "    </tr>\n",
              "    <tr>\n",
              "      <th>8</th>\n",
              "      <td>9</td>\n",
              "      <td>Arreaga</td>\n",
              "      <td>Angel</td>\n",
              "      <td>3.241317</td>\n",
              "      <td>3.388750</td>\n",
              "      <td>-0.147433</td>\n",
              "    </tr>\n",
              "    <tr>\n",
              "      <th>9</th>\n",
              "      <td>13</td>\n",
              "      <td>Douthitt</td>\n",
              "      <td>Adam</td>\n",
              "      <td>3.331617</td>\n",
              "      <td>3.427967</td>\n",
              "      <td>-0.096350</td>\n",
              "    </tr>\n",
              "    <tr>\n",
              "      <th>10</th>\n",
              "      <td>17</td>\n",
              "      <td>Franken</td>\n",
              "      <td>Sully</td>\n",
              "      <td>3.375933</td>\n",
              "      <td>3.470633</td>\n",
              "      <td>-0.094700</td>\n",
              "    </tr>\n",
              "  </tbody>\n",
              "</table>\n",
              "</div>"
            ],
            "text/plain": [
              "    index   Last Name     First Name  Time_2020  Time_2019      Diff\n",
              "1      19    Ricketts           Sean   3.382117   4.464883 -1.082767\n",
              "2      11      Tipton      Zechariah   3.315933   3.656217 -0.340283\n",
              "3      14    Douthitt  Savannah Rose   3.347433   3.664633 -0.317200\n",
              "4       8      McCabe        Madison   3.241033   3.528417 -0.287383\n",
              "5       1  Schoonover          Isaac   3.183133   3.377300 -0.194167\n",
              "6      24     Franken          Ville   3.465950   3.646750 -0.180800\n",
              "7      16     Shelton         Starry   3.355100   3.502933 -0.147833\n",
              "8       9     Arreaga          Angel   3.241317   3.388750 -0.147433\n",
              "9      13    Douthitt           Adam   3.331617   3.427967 -0.096350\n",
              "10     17     Franken          Sully   3.375933   3.470633 -0.094700"
            ]
          },
          "metadata": {
            "tags": []
          },
          "execution_count": 272
        }
      ]
    },
    {
      "cell_type": "markdown",
      "metadata": {
        "id": "Z0VNCTxGh2c0",
        "colab_type": "text"
      },
      "source": [
        "### Finals Rounds"
      ]
    },
    {
      "cell_type": "markdown",
      "metadata": {
        "id": "fjV5tz6w7bZq",
        "colab_type": "text"
      },
      "source": [
        "Now let's compare the Finals round with last year. First, run the usual stats."
      ]
    },
    {
      "cell_type": "code",
      "metadata": {
        "id": "vPwOWUmgnnxu",
        "colab_type": "code",
        "outputId": "a79893f6-ce99-4f35-a027-9817ec67a6ab",
        "colab": {
          "base_uri": "https://localhost:8080/",
          "height": 277
        }
      },
      "source": [
        "finals = ['Finals']\n",
        "finals_df = all_results_df[all_results_df.Round.isin(finals)]\n",
        "finals_df.groupby(['Year'])['Time'].describe().round(3).T"
      ],
      "execution_count": 0,
      "outputs": [
        {
          "output_type": "execute_result",
          "data": {
            "text/html": [
              "<div>\n",
              "<style scoped>\n",
              "    .dataframe tbody tr th:only-of-type {\n",
              "        vertical-align: middle;\n",
              "    }\n",
              "\n",
              "    .dataframe tbody tr th {\n",
              "        vertical-align: top;\n",
              "    }\n",
              "\n",
              "    .dataframe thead th {\n",
              "        text-align: right;\n",
              "    }\n",
              "</style>\n",
              "<table border=\"1\" class=\"dataframe\">\n",
              "  <thead>\n",
              "    <tr style=\"text-align: right;\">\n",
              "      <th>Year</th>\n",
              "      <th>2018</th>\n",
              "      <th>2019</th>\n",
              "      <th>2020</th>\n",
              "    </tr>\n",
              "  </thead>\n",
              "  <tbody>\n",
              "    <tr>\n",
              "      <th>count</th>\n",
              "      <td>108.000</td>\n",
              "      <td>108.000</td>\n",
              "      <td>108.000</td>\n",
              "    </tr>\n",
              "    <tr>\n",
              "      <th>mean</th>\n",
              "      <td>3.295</td>\n",
              "      <td>3.226</td>\n",
              "      <td>3.227</td>\n",
              "    </tr>\n",
              "    <tr>\n",
              "      <th>std</th>\n",
              "      <td>0.093</td>\n",
              "      <td>0.048</td>\n",
              "      <td>0.069</td>\n",
              "    </tr>\n",
              "    <tr>\n",
              "      <th>min</th>\n",
              "      <td>3.183</td>\n",
              "      <td>3.134</td>\n",
              "      <td>3.122</td>\n",
              "    </tr>\n",
              "    <tr>\n",
              "      <th>25%</th>\n",
              "      <td>3.234</td>\n",
              "      <td>3.199</td>\n",
              "      <td>3.183</td>\n",
              "    </tr>\n",
              "    <tr>\n",
              "      <th>50%</th>\n",
              "      <td>3.268</td>\n",
              "      <td>3.216</td>\n",
              "      <td>3.209</td>\n",
              "    </tr>\n",
              "    <tr>\n",
              "      <th>75%</th>\n",
              "      <td>3.310</td>\n",
              "      <td>3.251</td>\n",
              "      <td>3.244</td>\n",
              "    </tr>\n",
              "    <tr>\n",
              "      <th>max</th>\n",
              "      <td>3.618</td>\n",
              "      <td>3.392</td>\n",
              "      <td>3.453</td>\n",
              "    </tr>\n",
              "  </tbody>\n",
              "</table>\n",
              "</div>"
            ],
            "text/plain": [
              "Year      2018     2019     2020\n",
              "count  108.000  108.000  108.000\n",
              "mean     3.295    3.226    3.227\n",
              "std      0.093    0.048    0.069\n",
              "min      3.183    3.134    3.122\n",
              "25%      3.234    3.199    3.183\n",
              "50%      3.268    3.216    3.209\n",
              "75%      3.310    3.251    3.244\n",
              "max      3.618    3.392    3.453"
            ]
          },
          "metadata": {
            "tags": []
          },
          "execution_count": 273
        }
      ]
    },
    {
      "cell_type": "markdown",
      "metadata": {
        "id": "QZvTlv_35V2R",
        "colab_type": "text"
      },
      "source": [
        "It appears that both 2020 and 2019 were faster than 2018. Test whether the differences are significant or just chance."
      ]
    },
    {
      "cell_type": "code",
      "metadata": {
        "id": "xgRqdqZB75M5",
        "colab_type": "code",
        "outputId": "f3a75775-0b1e-476f-c8ea-2fb48bfaa6fa",
        "colab": {
          "base_uri": "https://localhost:8080/",
          "height": 33
        }
      },
      "source": [
        "stats.ttest_ind(finals_df[finals_df.Year.isin(['2019'])]['Time'],\n",
        "                finals_df[finals_df.Year.isin(['2020'])]['Time'])"
      ],
      "execution_count": 0,
      "outputs": [
        {
          "output_type": "execute_result",
          "data": {
            "text/plain": [
              "Ttest_indResult(statistic=-0.017378530761289736, pvalue=0.9861508281354359)"
            ]
          },
          "metadata": {
            "tags": []
          },
          "execution_count": 274
        }
      ]
    },
    {
      "cell_type": "markdown",
      "metadata": {
        "id": "7Wau-lPr5lgE",
        "colab_type": "text"
      },
      "source": [
        "Since pvalue is high, we cannot reject the null hypothesis that the samples (2019 and 2020) are drawn from the same process. In other words, there was no significant different between the 2019 and 2020 finals."
      ]
    },
    {
      "cell_type": "code",
      "metadata": {
        "id": "BmXNi1jR5l9k",
        "colab_type": "code",
        "outputId": "bb6427e9-abc2-46ec-c3c0-fcf25d8c3c54",
        "colab": {
          "base_uri": "https://localhost:8080/",
          "height": 33
        }
      },
      "source": [
        "stats.ttest_ind(finals_df[finals_df.Year.isin(['2018'])]['Time'],\n",
        "                finals_df[finals_df.Year.isin(['2019'])]['Time'])"
      ],
      "execution_count": 0,
      "outputs": [
        {
          "output_type": "execute_result",
          "data": {
            "text/plain": [
              "Ttest_indResult(statistic=6.796968980760401, pvalue=1.045463263910283e-10)"
            ]
          },
          "metadata": {
            "tags": []
          },
          "execution_count": 275
        }
      ]
    },
    {
      "cell_type": "markdown",
      "metadata": {
        "id": "-NceIrB5hgZd",
        "colab_type": "text"
      },
      "source": [
        "Since pvalue < 0.05, we can reject the null hypothesis that the samples (2018 and 2019) are drawn from the same process. In other words, the 2019 finals were significantly faster than 2018.\n",
        "\n",
        "You can see below that 2019 and 2020 have practically the same average and mostly overlapping distributions. Both improve one 2018."
      ]
    },
    {
      "cell_type": "code",
      "metadata": {
        "id": "d5sKNBISygsG",
        "colab_type": "code",
        "outputId": "9e233c1e-2d20-41c7-b3d6-75edcdff0032",
        "colab": {
          "base_uri": "https://localhost:8080/",
          "height": 452
        }
      },
      "source": [
        "comps = {'Year' : [ '2018', '2019', '2020' ]}\n",
        "compare_hist(finals_df, comps, title=\"Finals\",\n",
        "         hist=False, norm_hist=True, kde=True)"
      ],
      "execution_count": 0,
      "outputs": [
        {
          "output_type": "display_data",
          "data": {
            "image/png": "[encoded data removed]",
            "text/plain": [
              "<Figure size 720x450 with 1 Axes>"
            ]
          },
          "metadata": {
            "tags": []
          }
        }
      ]
    },
    {
      "cell_type": "markdown",
      "metadata": {
        "id": "fpr8k4gEjLi5",
        "colab_type": "text"
      },
      "source": [
        "Average Time by car in the 2020 finals, the top 10."
      ]
    },
    {
      "cell_type": "code",
      "metadata": {
        "id": "woS2rzVn6zNR",
        "colab_type": "code",
        "outputId": "10041f19-63dc-4cd5-a599-b8a41d727062",
        "colab": {
          "base_uri": "https://localhost:8080/",
          "height": 335
        }
      },
      "source": [
        "filter_dict = {'Year' :['2020']}\n",
        "top_times(finals_df, filter_dict,means=True)"
      ],
      "execution_count": 0,
      "outputs": [
        {
          "output_type": "execute_result",
          "data": {
            "text/html": [
              "<div>\n",
              "<style scoped>\n",
              "    .dataframe tbody tr th:only-of-type {\n",
              "        vertical-align: middle;\n",
              "    }\n",
              "\n",
              "    .dataframe tbody tr th {\n",
              "        vertical-align: top;\n",
              "    }\n",
              "\n",
              "    .dataframe thead th {\n",
              "        text-align: right;\n",
              "    }\n",
              "</style>\n",
              "<table border=\"1\" class=\"dataframe\">\n",
              "  <thead>\n",
              "    <tr style=\"text-align: right;\">\n",
              "      <th></th>\n",
              "      <th>Car</th>\n",
              "      <th>Last Name</th>\n",
              "      <th>First Name</th>\n",
              "      <th>Time</th>\n",
              "      <th>Stdev</th>\n",
              "      <th>Z-score</th>\n",
              "    </tr>\n",
              "  </thead>\n",
              "  <tbody>\n",
              "    <tr>\n",
              "      <th>1</th>\n",
              "      <td>56</td>\n",
              "      <td>Schoonover</td>\n",
              "      <td>Adelyn</td>\n",
              "      <td>3.150633</td>\n",
              "      <td>0.008720</td>\n",
              "      <td>-1.112821</td>\n",
              "    </tr>\n",
              "    <tr>\n",
              "      <th>2</th>\n",
              "      <td>2</td>\n",
              "      <td>Evers</td>\n",
              "      <td>Charlie</td>\n",
              "      <td>3.158067</td>\n",
              "      <td>0.012404</td>\n",
              "      <td>-1.003829</td>\n",
              "    </tr>\n",
              "    <tr>\n",
              "      <th>3</th>\n",
              "      <td>26</td>\n",
              "      <td>Townsend</td>\n",
              "      <td>Kolby</td>\n",
              "      <td>3.166767</td>\n",
              "      <td>0.006481</td>\n",
              "      <td>-0.876265</td>\n",
              "    </tr>\n",
              "    <tr>\n",
              "      <th>4</th>\n",
              "      <td>54</td>\n",
              "      <td>Schoonover</td>\n",
              "      <td>Isaac</td>\n",
              "      <td>3.177400</td>\n",
              "      <td>0.015201</td>\n",
              "      <td>-0.720353</td>\n",
              "    </tr>\n",
              "    <tr>\n",
              "      <th>5</th>\n",
              "      <td>55</td>\n",
              "      <td>Schoonover</td>\n",
              "      <td>Aubrey</td>\n",
              "      <td>3.179983</td>\n",
              "      <td>0.034767</td>\n",
              "      <td>-0.682475</td>\n",
              "    </tr>\n",
              "    <tr>\n",
              "      <th>6</th>\n",
              "      <td>44</td>\n",
              "      <td>Kunkel</td>\n",
              "      <td>Tristan</td>\n",
              "      <td>3.196050</td>\n",
              "      <td>0.021946</td>\n",
              "      <td>-0.446896</td>\n",
              "    </tr>\n",
              "    <tr>\n",
              "      <th>7</th>\n",
              "      <td>62</td>\n",
              "      <td>Hobson</td>\n",
              "      <td>Atticus</td>\n",
              "      <td>3.204467</td>\n",
              "      <td>0.014217</td>\n",
              "      <td>-0.323486</td>\n",
              "    </tr>\n",
              "    <tr>\n",
              "      <th>8</th>\n",
              "      <td>42</td>\n",
              "      <td>Cundiff</td>\n",
              "      <td>Cade</td>\n",
              "      <td>3.205150</td>\n",
              "      <td>0.016814</td>\n",
              "      <td>-0.313467</td>\n",
              "    </tr>\n",
              "    <tr>\n",
              "      <th>9</th>\n",
              "      <td>63</td>\n",
              "      <td>Hobson</td>\n",
              "      <td>Lucas</td>\n",
              "      <td>3.205967</td>\n",
              "      <td>0.002664</td>\n",
              "      <td>-0.301492</td>\n",
              "    </tr>\n",
              "    <tr>\n",
              "      <th>10</th>\n",
              "      <td>3</td>\n",
              "      <td>Arreaga</td>\n",
              "      <td>Angel</td>\n",
              "      <td>3.213050</td>\n",
              "      <td>0.019758</td>\n",
              "      <td>-0.197632</td>\n",
              "    </tr>\n",
              "  </tbody>\n",
              "</table>\n",
              "</div>"
            ],
            "text/plain": [
              "    Car   Last Name First Name      Time     Stdev   Z-score\n",
              "1    56  Schoonover     Adelyn  3.150633  0.008720 -1.112821\n",
              "2     2       Evers    Charlie  3.158067  0.012404 -1.003829\n",
              "3    26    Townsend      Kolby  3.166767  0.006481 -0.876265\n",
              "4    54  Schoonover      Isaac  3.177400  0.015201 -0.720353\n",
              "5    55  Schoonover     Aubrey  3.179983  0.034767 -0.682475\n",
              "6    44      Kunkel    Tristan  3.196050  0.021946 -0.446896\n",
              "7    62      Hobson    Atticus  3.204467  0.014217 -0.323486\n",
              "8    42     Cundiff       Cade  3.205150  0.016814 -0.313467\n",
              "9    63      Hobson      Lucas  3.205967  0.002664 -0.301492\n",
              "10    3     Arreaga      Angel  3.213050  0.019758 -0.197632"
            ]
          },
          "metadata": {
            "tags": []
          },
          "execution_count": 277
        }
      ]
    },
    {
      "cell_type": "markdown",
      "metadata": {
        "id": "OwS1BLgxjTIx",
        "colab_type": "text"
      },
      "source": [
        "Average Time by car in the 2019 finals, the top 10."
      ]
    },
    {
      "cell_type": "code",
      "metadata": {
        "id": "dmIGP45C65uv",
        "colab_type": "code",
        "outputId": "f0b43db6-c32b-4c78-e316-12405e2f5226",
        "colab": {
          "base_uri": "https://localhost:8080/",
          "height": 335
        }
      },
      "source": [
        "filter_dict = {'Year' :['2019']}\n",
        "top_times(finals_df, filter_dict,means=True)"
      ],
      "execution_count": 0,
      "outputs": [
        {
          "output_type": "execute_result",
          "data": {
            "text/html": [
              "<div>\n",
              "<style scoped>\n",
              "    .dataframe tbody tr th:only-of-type {\n",
              "        vertical-align: middle;\n",
              "    }\n",
              "\n",
              "    .dataframe tbody tr th {\n",
              "        vertical-align: top;\n",
              "    }\n",
              "\n",
              "    .dataframe thead th {\n",
              "        text-align: right;\n",
              "    }\n",
              "</style>\n",
              "<table border=\"1\" class=\"dataframe\">\n",
              "  <thead>\n",
              "    <tr style=\"text-align: right;\">\n",
              "      <th></th>\n",
              "      <th>Car</th>\n",
              "      <th>Last Name</th>\n",
              "      <th>First Name</th>\n",
              "      <th>Time</th>\n",
              "      <th>Stdev</th>\n",
              "      <th>Z-score</th>\n",
              "    </tr>\n",
              "  </thead>\n",
              "  <tbody>\n",
              "    <tr>\n",
              "      <th>1</th>\n",
              "      <td>30</td>\n",
              "      <td>Schoonover</td>\n",
              "      <td>Aubrey</td>\n",
              "      <td>3.146733</td>\n",
              "      <td>0.012968</td>\n",
              "      <td>-1.811702</td>\n",
              "    </tr>\n",
              "    <tr>\n",
              "      <th>2</th>\n",
              "      <td>31</td>\n",
              "      <td>Schoonover</td>\n",
              "      <td>Adelyn</td>\n",
              "      <td>3.176533</td>\n",
              "      <td>0.026556</td>\n",
              "      <td>-1.133917</td>\n",
              "    </tr>\n",
              "    <tr>\n",
              "      <th>3</th>\n",
              "      <td>51</td>\n",
              "      <td>Cundiff</td>\n",
              "      <td>Reed</td>\n",
              "      <td>3.183350</td>\n",
              "      <td>0.013195</td>\n",
              "      <td>-0.978875</td>\n",
              "    </tr>\n",
              "    <tr>\n",
              "      <th>4</th>\n",
              "      <td>43</td>\n",
              "      <td>Evers</td>\n",
              "      <td>Charlie</td>\n",
              "      <td>3.187033</td>\n",
              "      <td>0.025281</td>\n",
              "      <td>-0.895100</td>\n",
              "    </tr>\n",
              "    <tr>\n",
              "      <th>5</th>\n",
              "      <td>14</td>\n",
              "      <td>Holt</td>\n",
              "      <td>George</td>\n",
              "      <td>3.198600</td>\n",
              "      <td>0.012189</td>\n",
              "      <td>-0.632022</td>\n",
              "    </tr>\n",
              "    <tr>\n",
              "      <th>6</th>\n",
              "      <td>16</td>\n",
              "      <td>Kunkel</td>\n",
              "      <td>Tristan</td>\n",
              "      <td>3.198800</td>\n",
              "      <td>0.008713</td>\n",
              "      <td>-0.627473</td>\n",
              "    </tr>\n",
              "    <tr>\n",
              "      <th>7</th>\n",
              "      <td>50</td>\n",
              "      <td>Cundiff</td>\n",
              "      <td>Cade</td>\n",
              "      <td>3.205800</td>\n",
              "      <td>0.008255</td>\n",
              "      <td>-0.468262</td>\n",
              "    </tr>\n",
              "    <tr>\n",
              "      <th>8</th>\n",
              "      <td>15</td>\n",
              "      <td>Ferguson</td>\n",
              "      <td>Eli</td>\n",
              "      <td>3.209633</td>\n",
              "      <td>0.006785</td>\n",
              "      <td>-0.381075</td>\n",
              "    </tr>\n",
              "    <tr>\n",
              "      <th>9</th>\n",
              "      <td>46</td>\n",
              "      <td>Bramlett</td>\n",
              "      <td>Hudson</td>\n",
              "      <td>3.218517</td>\n",
              "      <td>0.021625</td>\n",
              "      <td>-0.179028</td>\n",
              "    </tr>\n",
              "    <tr>\n",
              "      <th>10</th>\n",
              "      <td>63</td>\n",
              "      <td>Mulgrew</td>\n",
              "      <td>Jackson</td>\n",
              "      <td>3.226400</td>\n",
              "      <td>0.018332</td>\n",
              "      <td>0.000274</td>\n",
              "    </tr>\n",
              "  </tbody>\n",
              "</table>\n",
              "</div>"
            ],
            "text/plain": [
              "    Car   Last Name First Name      Time     Stdev   Z-score\n",
              "1    30  Schoonover     Aubrey  3.146733  0.012968 -1.811702\n",
              "2    31  Schoonover     Adelyn  3.176533  0.026556 -1.133917\n",
              "3    51     Cundiff       Reed  3.183350  0.013195 -0.978875\n",
              "4    43       Evers    Charlie  3.187033  0.025281 -0.895100\n",
              "5    14        Holt     George  3.198600  0.012189 -0.632022\n",
              "6    16      Kunkel    Tristan  3.198800  0.008713 -0.627473\n",
              "7    50     Cundiff       Cade  3.205800  0.008255 -0.468262\n",
              "8    15    Ferguson        Eli  3.209633  0.006785 -0.381075\n",
              "9    46    Bramlett     Hudson  3.218517  0.021625 -0.179028\n",
              "10   63     Mulgrew    Jackson  3.226400  0.018332  0.000274"
            ]
          },
          "metadata": {
            "tags": []
          },
          "execution_count": 278
        }
      ]
    },
    {
      "cell_type": "markdown",
      "metadata": {
        "id": "T-QfbUiCjm-1",
        "colab_type": "text"
      },
      "source": [
        "### Lanes, Ages and the Schoonover Effect"
      ]
    },
    {
      "cell_type": "markdown",
      "metadata": {
        "id": "xZWL_Lhjncos",
        "colab_type": "text"
      },
      "source": [
        "Are there any differences among the lanes? First run the usual stats and plot the distributions."
      ]
    },
    {
      "cell_type": "code",
      "metadata": {
        "id": "WLHIuZfoncot",
        "colab_type": "code",
        "outputId": "c35138e6-0f12-4a04-bfb9-78ea6b1b7baf",
        "colab": {
          "base_uri": "https://localhost:8080/",
          "height": 277
        }
      },
      "source": [
        "lanes_df = prelims_df[prelims_df.Year.isin(['2020'])][['Lane','Time']]\n",
        "lanes_df.groupby(['Lane']).describe().round(4).T"
      ],
      "execution_count": 0,
      "outputs": [
        {
          "output_type": "execute_result",
          "data": {
            "text/html": [
              "<div>\n",
              "<style scoped>\n",
              "    .dataframe tbody tr th:only-of-type {\n",
              "        vertical-align: middle;\n",
              "    }\n",
              "\n",
              "    .dataframe tbody tr th {\n",
              "        vertical-align: top;\n",
              "    }\n",
              "\n",
              "    .dataframe thead th {\n",
              "        text-align: right;\n",
              "    }\n",
              "</style>\n",
              "<table border=\"1\" class=\"dataframe\">\n",
              "  <thead>\n",
              "    <tr style=\"text-align: right;\">\n",
              "      <th></th>\n",
              "      <th>Lane</th>\n",
              "      <th>1</th>\n",
              "      <th>2</th>\n",
              "      <th>3</th>\n",
              "      <th>4</th>\n",
              "      <th>5</th>\n",
              "      <th>6</th>\n",
              "    </tr>\n",
              "  </thead>\n",
              "  <tbody>\n",
              "    <tr>\n",
              "      <th rowspan=\"8\" valign=\"top\">Time</th>\n",
              "      <th>count</th>\n",
              "      <td>48.0000</td>\n",
              "      <td>48.0000</td>\n",
              "      <td>48.0000</td>\n",
              "      <td>48.0000</td>\n",
              "      <td>48.0000</td>\n",
              "      <td>48.0000</td>\n",
              "    </tr>\n",
              "    <tr>\n",
              "      <th>mean</th>\n",
              "      <td>3.3741</td>\n",
              "      <td>3.3845</td>\n",
              "      <td>3.3573</td>\n",
              "      <td>3.3565</td>\n",
              "      <td>3.3494</td>\n",
              "      <td>3.3619</td>\n",
              "    </tr>\n",
              "    <tr>\n",
              "      <th>std</th>\n",
              "      <td>0.1874</td>\n",
              "      <td>0.1954</td>\n",
              "      <td>0.1710</td>\n",
              "      <td>0.1752</td>\n",
              "      <td>0.1420</td>\n",
              "      <td>0.1734</td>\n",
              "    </tr>\n",
              "    <tr>\n",
              "      <th>min</th>\n",
              "      <td>3.1347</td>\n",
              "      <td>3.1425</td>\n",
              "      <td>3.1478</td>\n",
              "      <td>3.1450</td>\n",
              "      <td>3.1403</td>\n",
              "      <td>3.1256</td>\n",
              "    </tr>\n",
              "    <tr>\n",
              "      <th>25%</th>\n",
              "      <td>3.2494</td>\n",
              "      <td>3.2328</td>\n",
              "      <td>3.2368</td>\n",
              "      <td>3.2255</td>\n",
              "      <td>3.2302</td>\n",
              "      <td>3.2417</td>\n",
              "    </tr>\n",
              "    <tr>\n",
              "      <th>50%</th>\n",
              "      <td>3.3624</td>\n",
              "      <td>3.3498</td>\n",
              "      <td>3.3276</td>\n",
              "      <td>3.3299</td>\n",
              "      <td>3.3302</td>\n",
              "      <td>3.3276</td>\n",
              "    </tr>\n",
              "    <tr>\n",
              "      <th>75%</th>\n",
              "      <td>3.4351</td>\n",
              "      <td>3.4645</td>\n",
              "      <td>3.4319</td>\n",
              "      <td>3.4214</td>\n",
              "      <td>3.4256</td>\n",
              "      <td>3.4273</td>\n",
              "    </tr>\n",
              "    <tr>\n",
              "      <th>max</th>\n",
              "      <td>4.2796</td>\n",
              "      <td>4.1866</td>\n",
              "      <td>4.1112</td>\n",
              "      <td>4.0393</td>\n",
              "      <td>3.8615</td>\n",
              "      <td>3.9871</td>\n",
              "    </tr>\n",
              "  </tbody>\n",
              "</table>\n",
              "</div>"
            ],
            "text/plain": [
              "Lane              1        2        3        4        5        6\n",
              "Time count  48.0000  48.0000  48.0000  48.0000  48.0000  48.0000\n",
              "     mean    3.3741   3.3845   3.3573   3.3565   3.3494   3.3619\n",
              "     std     0.1874   0.1954   0.1710   0.1752   0.1420   0.1734\n",
              "     min     3.1347   3.1425   3.1478   3.1450   3.1403   3.1256\n",
              "     25%     3.2494   3.2328   3.2368   3.2255   3.2302   3.2417\n",
              "     50%     3.3624   3.3498   3.3276   3.3299   3.3302   3.3276\n",
              "     75%     3.4351   3.4645   3.4319   3.4214   3.4256   3.4273\n",
              "     max     4.2796   4.1866   4.1112   4.0393   3.8615   3.9871"
            ]
          },
          "metadata": {
            "tags": []
          },
          "execution_count": 279
        }
      ]
    },
    {
      "cell_type": "code",
      "metadata": {
        "id": "zSZG171Es60G",
        "colab_type": "code",
        "outputId": "920a6153-0e1c-4f92-e4d3-407a7b39f671",
        "colab": {
          "base_uri": "https://localhost:8080/",
          "height": 452
        }
      },
      "source": [
        "comps = {'Lane' : [1,2,3,4,5,6]}\n",
        "compare_hist(lanes_df, comps, title=\"Lanes\",\n",
        "         hist=False, norm_hist=True, kde=True)"
      ],
      "execution_count": 0,
      "outputs": [
        {
          "output_type": "display_data",
          "data": {
            "image/png": "[encoded data removed]",
            "text/plain": [
              "<Figure size 720x450 with 1 Axes>"
            ]
          },
          "metadata": {
            "tags": []
          }
        }
      ]
    },
    {
      "cell_type": "markdown",
      "metadata": {
        "id": "CmIEgVatnco1",
        "colab_type": "text"
      },
      "source": [
        "Not a lot of difference. \n",
        "\n",
        "Next, run a test between each pair of lanes to determine if the lane means are significantly different."
      ]
    },
    {
      "cell_type": "code",
      "metadata": {
        "id": "Kd5lNRzdnco4",
        "colab_type": "code",
        "outputId": "6dbfd04d-3f02-45d5-bad6-83e004abb4b8",
        "colab": {
          "base_uri": "https://localhost:8080/",
          "height": 478
        }
      },
      "source": [
        "lanes = [1,2,3,4,5,6]\n",
        "\n",
        "b = [[i, j] for i in lanes for j in lanes]\n",
        "combos = []\n",
        "for i in b:\n",
        "    if i[0]<i[1]: \n",
        "        combos.append(i)\n",
        "\n",
        "pvalues = []\n",
        "for i in combos:\n",
        "    e = lanes_df[\"Time\"][lanes_df[\"Lane\"]==i[0]]\n",
        "    f = lanes_df[\"Time\"][lanes_df[\"Lane\"]==i[1]]\n",
        "    pvalue = round(stats.ttest_ind(e, f)[1],4)\n",
        "    pvalues.append(pvalue)\n",
        "\n",
        "pd.DataFrame({'Lane Pair': combos,\n",
        "              'P-value' : pvalues}).sort_values('P-value')\n"
      ],
      "execution_count": 0,
      "outputs": [
        {
          "output_type": "execute_result",
          "data": {
            "text/html": [
              "<div>\n",
              "<style scoped>\n",
              "    .dataframe tbody tr th:only-of-type {\n",
              "        vertical-align: middle;\n",
              "    }\n",
              "\n",
              "    .dataframe tbody tr th {\n",
              "        vertical-align: top;\n",
              "    }\n",
              "\n",
              "    .dataframe thead th {\n",
              "        text-align: right;\n",
              "    }\n",
              "</style>\n",
              "<table border=\"1\" class=\"dataframe\">\n",
              "  <thead>\n",
              "    <tr style=\"text-align: right;\">\n",
              "      <th></th>\n",
              "      <th>Lane Pair</th>\n",
              "      <th>P-value</th>\n",
              "    </tr>\n",
              "  </thead>\n",
              "  <tbody>\n",
              "    <tr>\n",
              "      <th>7</th>\n",
              "      <td>[2, 5]</td>\n",
              "      <td>0.3165</td>\n",
              "    </tr>\n",
              "    <tr>\n",
              "      <th>6</th>\n",
              "      <td>[2, 4]</td>\n",
              "      <td>0.4619</td>\n",
              "    </tr>\n",
              "    <tr>\n",
              "      <th>3</th>\n",
              "      <td>[1, 5]</td>\n",
              "      <td>0.4690</td>\n",
              "    </tr>\n",
              "    <tr>\n",
              "      <th>5</th>\n",
              "      <td>[2, 3]</td>\n",
              "      <td>0.4697</td>\n",
              "    </tr>\n",
              "    <tr>\n",
              "      <th>8</th>\n",
              "      <td>[2, 6]</td>\n",
              "      <td>0.5506</td>\n",
              "    </tr>\n",
              "    <tr>\n",
              "      <th>2</th>\n",
              "      <td>[1, 4]</td>\n",
              "      <td>0.6367</td>\n",
              "    </tr>\n",
              "    <tr>\n",
              "      <th>1</th>\n",
              "      <td>[1, 3]</td>\n",
              "      <td>0.6480</td>\n",
              "    </tr>\n",
              "    <tr>\n",
              "      <th>14</th>\n",
              "      <td>[5, 6]</td>\n",
              "      <td>0.6994</td>\n",
              "    </tr>\n",
              "    <tr>\n",
              "      <th>4</th>\n",
              "      <td>[1, 6]</td>\n",
              "      <td>0.7423</td>\n",
              "    </tr>\n",
              "    <tr>\n",
              "      <th>0</th>\n",
              "      <td>[1, 2]</td>\n",
              "      <td>0.7901</td>\n",
              "    </tr>\n",
              "    <tr>\n",
              "      <th>10</th>\n",
              "      <td>[3, 5]</td>\n",
              "      <td>0.8060</td>\n",
              "    </tr>\n",
              "    <tr>\n",
              "      <th>12</th>\n",
              "      <td>[4, 5]</td>\n",
              "      <td>0.8272</td>\n",
              "    </tr>\n",
              "    <tr>\n",
              "      <th>13</th>\n",
              "      <td>[4, 6]</td>\n",
              "      <td>0.8797</td>\n",
              "    </tr>\n",
              "    <tr>\n",
              "      <th>11</th>\n",
              "      <td>[3, 6]</td>\n",
              "      <td>0.8957</td>\n",
              "    </tr>\n",
              "    <tr>\n",
              "      <th>9</th>\n",
              "      <td>[3, 4]</td>\n",
              "      <td>0.9825</td>\n",
              "    </tr>\n",
              "  </tbody>\n",
              "</table>\n",
              "</div>"
            ],
            "text/plain": [
              "   Lane Pair  P-value\n",
              "7     [2, 5]   0.3165\n",
              "6     [2, 4]   0.4619\n",
              "3     [1, 5]   0.4690\n",
              "5     [2, 3]   0.4697\n",
              "8     [2, 6]   0.5506\n",
              "2     [1, 4]   0.6367\n",
              "1     [1, 3]   0.6480\n",
              "14    [5, 6]   0.6994\n",
              "4     [1, 6]   0.7423\n",
              "0     [1, 2]   0.7901\n",
              "10    [3, 5]   0.8060\n",
              "12    [4, 5]   0.8272\n",
              "13    [4, 6]   0.8797\n",
              "11    [3, 6]   0.8957\n",
              "9     [3, 4]   0.9825"
            ]
          },
          "metadata": {
            "tags": []
          },
          "execution_count": 281
        }
      ]
    },
    {
      "cell_type": "markdown",
      "metadata": {
        "id": "XGSvwzdXnco9",
        "colab_type": "text"
      },
      "source": [
        "Since, for each pair of lanes, the probability is high (p-value>0.05) that the mean Time difference is chance, we can conclude there is no significant difference among the lanes."
      ]
    },
    {
      "cell_type": "markdown",
      "metadata": {
        "id": "XmRo74P9Iy3X",
        "colab_type": "text"
      },
      "source": [
        "#### The Schoonover Effect"
      ]
    },
    {
      "cell_type": "markdown",
      "metadata": {
        "id": "x0AmFx-CGZJm",
        "colab_type": "text"
      },
      "source": [
        "Yes, there is one, and it's measurable and significant. On average and when controlling for scouts' ages and lanes, having the last name 'Schoonover' reduces the Time by around 0.22 seconds in both 2019 and 2020. See the coefficient for `Schoonover` in the results below.\n",
        "\n",
        "Also note that each additional year in a scout's age reduces her time by around 0.03 seconds. This result is also significant."
      ]
    },
    {
      "cell_type": "code",
      "metadata": {
        "id": "2U93S3NEGZXF",
        "colab_type": "code",
        "outputId": "317c1104-a586-4b5d-f2cf-b272fd29d66e",
        "colab": {
          "base_uri": "https://localhost:8080/",
          "height": 521
        }
      },
      "source": [
        "df = prelims_df[prelims_df.Year.isin(['2020'])]\n",
        "\n",
        "for i in zip(['Lion', 'Tiger', 'Wolf', 'Bear', 'Webelo', 'AOL'], range(6)):\n",
        "    df.loc[df['Round']==i[0],'Age'] = i[1]\n",
        "\n",
        "for i in [2,3,4,5,6]:\n",
        "    df.loc[df['Lane']==i,'Lane'+str(i)] = 1\n",
        "\n",
        "df.loc[df['Last Name']=='Schoonover','Schoonover'] = 1\n",
        "\n",
        "for n in ['Age', 'Lane2','Lane3','Lane4','Lane5','Lane6', 'Schoonover']:\n",
        "    df[n].fillna(0,inplace=True)\n",
        "\n",
        "reg_form = \"Time ~ Age + Lane2 + Lane3 + Lane4 + Lane5 + Lane6 + Schoonover\"\n",
        "result = sm.ols(formula=reg_form, data=df).fit()\n",
        "print(result.summary())"
      ],
      "execution_count": 0,
      "outputs": [
        {
          "output_type": "stream",
          "text": [
            "                            OLS Regression Results                            \n",
            "==============================================================================\n",
            "Dep. Variable:                   Time   R-squared:                       0.150\n",
            "Model:                            OLS   Adj. R-squared:                  0.128\n",
            "Method:                 Least Squares   F-statistic:                     7.038\n",
            "Date:                Sun, 22 Mar 2020   Prob (F-statistic):           9.64e-08\n",
            "Time:                        00:48:52   Log-Likelihood:                 119.20\n",
            "No. Observations:                 288   AIC:                            -222.4\n",
            "Df Residuals:                     280   BIC:                            -193.1\n",
            "Df Model:                           7                                         \n",
            "Covariance Type:            nonrobust                                         \n",
            "==============================================================================\n",
            "                 coef    std err          t      P>|t|      [0.025      0.975]\n",
            "------------------------------------------------------------------------------\n",
            "Intercept      3.4547      0.028    124.164      0.000       3.400       3.509\n",
            "Age           -0.0291      0.006     -4.577      0.000      -0.042      -0.017\n",
            "Lane2          0.0104      0.033      0.315      0.753      -0.055       0.076\n",
            "Lane3         -0.0168      0.033     -0.507      0.613      -0.082       0.048\n",
            "Lane4         -0.0176      0.033     -0.530      0.597      -0.083       0.048\n",
            "Lane5         -0.0247      0.033     -0.745      0.457      -0.090       0.041\n",
            "Lane6         -0.0122      0.033     -0.367      0.714      -0.077       0.053\n",
            "Schoonover    -0.2238      0.040     -5.634      0.000      -0.302      -0.146\n",
            "==============================================================================\n",
            "Omnibus:                      118.262   Durbin-Watson:                   2.454\n",
            "Prob(Omnibus):                  0.000   Jarque-Bera (JB):              462.203\n",
            "Skew:                           1.740   Prob(JB):                    4.30e-101\n",
            "Kurtosis:                       8.138   Cond. No.                         18.6\n",
            "==============================================================================\n",
            "\n",
            "Warnings:\n",
            "[1] Standard Errors assume that the covariance matrix of the errors is correctly specified.\n"
          ],
          "name": "stdout"
        }
      ]
    },
    {
      "cell_type": "markdown",
      "metadata": {
        "id": "tHW3YS3akOQD",
        "colab_type": "text"
      },
      "source": [
        "### Distributional Analysis and Fastest Possible Time"
      ]
    },
    {
      "cell_type": "markdown",
      "metadata": {
        "id": "E5SklnRij9qy",
        "colab_type": "text"
      },
      "source": [
        "Let's look again at the histogram for the preliminary rounds."
      ]
    },
    {
      "cell_type": "code",
      "metadata": {
        "id": "i6LjJyz9jXV7",
        "colab_type": "code",
        "outputId": "5e3a8dd1-31d6-4d0e-a3a0-235310a69d8f",
        "colab": {
          "base_uri": "https://localhost:8080/",
          "height": 452
        }
      },
      "source": [
        "comps = {'Year' : ['2020']}\n",
        "compare_hist(prelims_df, comps, title=\"Preliminary Rounds\",\n",
        "         hist=True, norm_hist=True, kde=False)"
      ],
      "execution_count": 0,
      "outputs": [
        {
          "output_type": "display_data",
          "data": {
            "image/png": "[encoded data removed]",
            "text/plain": [
              "<Figure size 720x450 with 1 Axes>"
            ]
          },
          "metadata": {
            "tags": []
          }
        }
      ]
    },
    {
      "cell_type": "markdown",
      "metadata": {
        "id": "EbgUZm4tncn8",
        "colab_type": "text"
      },
      "source": [
        "Can we say with confidence that the preliminaries' times are normally distributed (i.e. follow a bell curve)? Do a test for normality."
      ]
    },
    {
      "cell_type": "code",
      "metadata": {
        "id": "KZfscbAzncn-",
        "colab_type": "code",
        "outputId": "e61d28c9-3cd0-4a02-f396-ae1eb38b17d6",
        "colab": {
          "base_uri": "https://localhost:8080/",
          "height": 33
        }
      },
      "source": [
        "times = prelims_df[prelims_df.Year.isin(['2020'])]['Time']\n",
        "stats.normaltest(times)"
      ],
      "execution_count": 0,
      "outputs": [
        {
          "output_type": "execute_result",
          "data": {
            "text/plain": [
              "NormaltestResult(statistic=138.7593010969528, pvalue=7.3926579172741614e-31)"
            ]
          },
          "metadata": {
            "tags": []
          },
          "execution_count": 284
        }
      ]
    },
    {
      "cell_type": "markdown",
      "metadata": {
        "id": "jWsKXpKEncoE",
        "colab_type": "text"
      },
      "source": [
        "Since the above p-value < 5% , we can reject the null hypothesis that Times are distributed normally. \n",
        "\n",
        "The histogram appears to have a long right tail and a hard boundary on the left. Perhaps a lognormal distribution is more appropriate. Superimpose a lognormal probability density function to the histogram and check visually for goodness of fit."
      ]
    },
    {
      "cell_type": "code",
      "metadata": {
        "id": "Ly-vKttC9m13",
        "colab_type": "code",
        "outputId": "cec18b1c-3276-41ce-97d7-a1e304a24bd1",
        "colab": {
          "base_uri": "https://localhost:8080/",
          "height": 452
        }
      },
      "source": [
        "comps = {'Year' : ['2020']}\n",
        "compare_hist(prelims_df, comps, title=\"Preliminary Rounds\",\n",
        "         hist=True, norm_hist=True, kde=False, fit=stats.lognorm)"
      ],
      "execution_count": 0,
      "outputs": [
        {
          "output_type": "display_data",
          "data": {
            "image/png": "[encoded data removed]",
            "text/plain": [
              "<Figure size 720x450 with 1 Axes>"
            ]
          },
          "metadata": {
            "tags": []
          }
        }
      ]
    },
    {
      "cell_type": "markdown",
      "metadata": {
        "id": "A8KWMts_ncoN",
        "colab_type": "text"
      },
      "source": [
        "The curve looks to fit the data well. I.e. the data appear to follow a lognormal distribution. Test for goodness of fit."
      ]
    },
    {
      "cell_type": "code",
      "metadata": {
        "id": "FwiJRY7incoQ",
        "colab_type": "code",
        "outputId": "262e415d-d81f-4e0c-be96-27862ac6dbea",
        "colab": {
          "base_uri": "https://localhost:8080/",
          "height": 33
        }
      },
      "source": [
        "#https://docs.scipy.org/doc/scipy/reference/generated/scipy.stats.kstest.html#scipy.stats.kstest\n",
        "stats.kstest(times, \"lognorm\", stats.lognorm.fit(times))"
      ],
      "execution_count": 0,
      "outputs": [
        {
          "output_type": "execute_result",
          "data": {
            "text/plain": [
              "KstestResult(statistic=0.06400834257575488, pvalue=0.18090164259893818)"
            ]
          },
          "metadata": {
            "tags": []
          },
          "execution_count": 286
        }
      ]
    },
    {
      "cell_type": "markdown",
      "metadata": {
        "id": "kyZB_8WjncoV",
        "colab_type": "text"
      },
      "source": [
        "Since the above p-value > 5% , we cannot reject the null hypothesis that Times follow a lognormal distribution. Also we know that simulating the track physics yields a lognormal distribution of race times. See https://github.com/tedteske/DerbySim/blob/master/DerbySim.ipynb for details.\n",
        "\n",
        "Now, estimate the parameters of that distribution, and plot a historgram of random draws from it to see if it resembles the original data. "
      ]
    },
    {
      "cell_type": "code",
      "metadata": {
        "id": "wotJvwlAncoX",
        "colab_type": "code",
        "outputId": "722be5e8-9d10-400e-8d5f-9da21f458a26",
        "colab": {
          "base_uri": "https://localhost:8080/",
          "height": 533
        }
      },
      "source": [
        "shape, floor, median = stats.lognorm.fit(times)\n",
        "\n",
        "print(\"shape = \", shape.round(4))\n",
        "print(\"lower bound = \", floor.round(4))\n",
        "print(\"distance from lower bound to median = \", median.round(4))\n",
        "print(\"\\n\")\n",
        "\n",
        "dist = []\n",
        "for i in range(324):\n",
        "    x = stats.lognorm.rvs(s=shape, loc=floor, scale=median)\n",
        "    dist.append(['2020', x])\n",
        "\n",
        "df = pd.DataFrame(dist, columns = ['Year', 'Time'])  \n",
        "\n",
        "comps = {'Year' : ['2020']}\n",
        "compare_hist(df, comps_dict=comps, title=\"Simulated Rounds\",\n",
        "         hist=True, norm_hist=True, kde=False, fit=stats.lognorm)"
      ],
      "execution_count": 0,
      "outputs": [
        {
          "output_type": "stream",
          "text": [
            "shape =  0.532\n",
            "lower bound =  3.0641\n",
            "distance from lower bound to median =  0.2602\n",
            "\n",
            "\n"
          ],
          "name": "stdout"
        },
        {
          "output_type": "display_data",
          "data": {
            "image/png": "[encoded data removed]",
            "text/plain": [
              "<Figure size 720x450 with 1 Axes>"
            ]
          },
          "metadata": {
            "tags": []
          }
        }
      ]
    },
    {
      "cell_type": "markdown",
      "metadata": {
        "id": "TYo5ddK8ncod",
        "colab_type": "text"
      },
      "source": [
        "Yes, sure does. \n",
        "\n",
        "If this curve then is representative, then what is the probability of some car out of this group running a time better than 3.2 seconds?"
      ]
    },
    {
      "cell_type": "code",
      "metadata": {
        "id": "04SJLdJOncoe",
        "colab_type": "code",
        "outputId": "0c619693-fe21-4f05-c810-08947abf564f",
        "colab": {
          "base_uri": "https://localhost:8080/",
          "height": 33
        }
      },
      "source": [
        "#https://matthew-brett.github.io/teaching/on_cdfs.html\n",
        "stats.lognorm.cdf(x=3.2, s=shape, loc=floor, scale=median).round(4)"
      ],
      "execution_count": 0,
      "outputs": [
        {
          "output_type": "execute_result",
          "data": {
            "text/plain": [
              "0.111"
            ]
          },
          "metadata": {
            "tags": []
          },
          "execution_count": 287
        }
      ]
    },
    {
      "cell_type": "markdown",
      "metadata": {
        "id": "glsvGMITzwuS",
        "colab_type": "text"
      },
      "source": [
        "What about the probability of running a time better than 3.1 seconds?"
      ]
    },
    {
      "cell_type": "code",
      "metadata": {
        "id": "mKvFqeYfncol",
        "colab_type": "code",
        "outputId": "9ad25d1c-fe52-46e5-93b8-cc506814eda5",
        "colab": {
          "base_uri": "https://localhost:8080/",
          "height": 33
        }
      },
      "source": [
        "stats.lognorm.cdf(x=3.1, s=shape, loc=floor, scale=median).round(4)"
      ],
      "execution_count": 0,
      "outputs": [
        {
          "output_type": "execute_result",
          "data": {
            "text/plain": [
              "0.0001"
            ]
          },
          "metadata": {
            "tags": []
          },
          "execution_count": 288
        }
      ]
    },
    {
      "cell_type": "markdown",
      "metadata": {
        "id": "cEveuq4pncok",
        "colab_type": "text"
      },
      "source": [
        "...which is consistent with the lower bound of the distribution above.  Note that this is also consistent with the fastest possible time (with stock wheels) of 3.05. \n",
        "\n",
        "See again https://github.com/tedteske/DerbySim/blob/master/DerbySim.ipynb for details."
      ]
    },
    {
      "cell_type": "code",
      "metadata": {
        "id": "33iYuPEAsHJm",
        "colab_type": "code",
        "colab": {}
      },
      "source": [
        ""
      ],
      "execution_count": 0,
      "outputs": []
    }
  ]
}